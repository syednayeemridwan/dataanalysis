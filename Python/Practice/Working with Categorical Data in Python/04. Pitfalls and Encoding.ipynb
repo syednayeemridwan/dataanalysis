{
 "cells": [
  {
   "cell_type": "markdown",
   "metadata": {},
   "source": [
    " If each of the columns below is converted to a categorical Series, which column will save the most memory? The used_cars dataset has been loaded for you."
   ]
  },
  {
   "cell_type": "code",
   "execution_count": 3,
   "metadata": {},
   "outputs": [
    {
     "name": "stdout",
     "output_type": "stream",
     "text": [
      "Working with price_usd Column:\n",
      "Before categorical conversion:\n",
      "float64\n",
      "308248\n",
      "After categorical conversion:\n",
      "category\n",
      "98478\n",
      "Efficiency = 3.1301204329901093\n",
      "..........................\n",
      "Working with drivetrain Column:\n",
      "Before categorical conversion:\n",
      "object\n",
      "308248\n",
      "After categorical conversion:\n",
      "category\n",
      "38555\n",
      "Efficiency = 7.9950201011541955\n",
      "..........................\n",
      "Working with model_name Column:\n",
      "Before categorical conversion:\n",
      "object\n",
      "308248\n",
      "After categorical conversion:\n",
      "category\n",
      "86006\n",
      "Efficiency = 3.584029021231077\n",
      "..........................\n"
     ]
    }
   ],
   "source": [
    "import pandas as pd\n",
    "\n",
    "used_cars = pd.read_csv(\"cars.csv\")\n",
    "\n",
    "cols = [\"price_usd\", \"drivetrain\", \"model_name\"]\n",
    "\n",
    "for col in cols:\n",
    "    print(f\"Working with {col} Column:\")\n",
    "    print(\"Before categorical conversion:\")\n",
    "    unconverted = used_cars[col]\n",
    "    print(unconverted.dtype)\n",
    "    print(unconverted.nbytes)\n",
    "    converted = used_cars[col].astype(\"category\")\n",
    "    print(\"After categorical conversion:\")\n",
    "    print(converted.dtype)\n",
    "    print(converted.nbytes)\n",
    "    efficiency = unconverted.nbytes/converted.nbytes\n",
    "    print(f\"Efficiency = {efficiency}\")\n",
    "    print(\"..........................\")"
   ]
  },
  {
   "cell_type": "markdown",
   "metadata": {},
   "source": [
    "- Print the frequency table of the \"body_type\" column for used_cars and include NaN values.\n",
    "- Update the .loc statement so that all NaN values in \"body_type\" are set to \"other\".\n",
    "- Convert the \"body_type\" column to title case.\n",
    "- Check the dtype of the \"body_type\" column.\n"
   ]
  },
  {
   "cell_type": "code",
   "execution_count": 4,
   "metadata": {},
   "outputs": [
    {
     "name": "stdout",
     "output_type": "stream",
     "text": [
      "sedan        13011\n",
      "hatchback     7644\n",
      "universal     5507\n",
      "suv           5164\n",
      "minivan       3608\n",
      "minibus       1369\n",
      "van            808\n",
      "coupe          652\n",
      "liftback       552\n",
      "pickup         129\n",
      "cabriolet       75\n",
      "limousine       12\n",
      "Name: body_type, dtype: int64\n",
      "object\n"
     ]
    }
   ],
   "source": [
    "# Print the frequency table of body_type and include NaN values\n",
    "print(used_cars[\"body_type\"].value_counts(dropna=False))\n",
    "\n",
    "# Update NaN values\n",
    "used_cars.loc[used_cars[\"body_type\"].isna(), \"body_type\"] = \"other\"\n",
    "\n",
    "# Convert body_type to title case\n",
    "used_cars[\"body_type\"] = used_cars[\"body_type\"].str.title()\n",
    "\n",
    "# Check the dtype\n",
    "print(used_cars[\"body_type\"].dtype)"
   ]
  },
  {
   "cell_type": "markdown",
   "metadata": {},
   "source": [
    "- Print the frequency table of the \"Sale Rating\" column of the used_cars dataset."
   ]
  },
  {
   "cell_type": "code",
   "execution_count": 7,
   "metadata": {},
   "outputs": [
    {
     "name": "stdout",
     "output_type": "stream",
     "text": [
      "Index(['manufacturer_name', 'model_name', 'transmission', 'color',\n",
      "       'odometer_value', 'year_produced', 'engine_fuel', 'engine_has_gas',\n",
      "       'engine_type', 'engine_capacity', 'body_type', 'has_warranty', 'state',\n",
      "       'drivetrain', 'price_usd', 'is_exchangeable', 'location_region',\n",
      "       'number_of_photos', 'up_counter', 'feature_0', 'feature_1', 'feature_2',\n",
      "       'feature_3', 'feature_4', 'feature_5', 'feature_6', 'feature_7',\n",
      "       'feature_8', 'feature_9', 'duration_listed'],\n",
      "      dtype='object')\n"
     ]
    }
   ],
   "source": [
    "# Print the frequency table of Sale Rating\n",
    "print(used_cars.columns)\n",
    "# print(used_cars[\"Sale Rating\"].value_counts())"
   ]
  },
  {
   "cell_type": "markdown",
   "metadata": {},
   "source": [
    "Now on to the key question: what is the average \"saleability\" of the used cars? What happens if you try the following code:\n",
    "\n",
    "`average_score = used_cars[\"Sale Rating\"].mean()`\n",
    "- A type error, because numpy doesn't understand the categorical dtype."
   ]
  },
  {
   "cell_type": "markdown",
   "metadata": {},
   "source": [
    "- Correct the second statement by converting the column to type int before calling .mean()."
   ]
  },
  {
   "cell_type": "code",
   "execution_count": 9,
   "metadata": {},
   "outputs": [],
   "source": [
    "# # Print the frequency table of Sale Rating\n",
    "# print(used_cars[\"Sale Rating\"].value_counts())\n",
    "\n",
    "# # Find the average score\n",
    "# average_score = used_cars[\"Sale Rating\"].astype(\"int\").mean()\n",
    "\n",
    "# # Print the average\n",
    "# print(average_score)"
   ]
  },
  {
   "cell_type": "markdown",
   "metadata": {},
   "source": [
    "- Convert the color column to a categorical Series.\n",
    "- Create a new column, \"color_code\", by creating a label encoding for the variable \"color\".\n",
    "- Before you forget which codes belong to which categories, create a color map using the codes and categories objects.\n",
    "- Print the new color map to see which codes map to which categories."
   ]
  },
  {
   "cell_type": "code",
   "execution_count": 10,
   "metadata": {},
   "outputs": [
    {
     "name": "stdout",
     "output_type": "stream",
     "text": [
      "black     7705\n",
      "silver    6852\n",
      "blue      5802\n",
      "white     4212\n",
      "grey      3751\n",
      "red       2925\n",
      "green     2760\n",
      "other     2688\n",
      "brown      886\n",
      "violet     463\n",
      "yellow     303\n",
      "orange     184\n",
      "Name: color, dtype: int64\n",
      "{8: 'silver', 1: 'blue', 7: 'red', 0: 'black', 4: 'grey', 6: 'other', 2: 'brown', 10: 'white', 3: 'green', 9: 'violet', 5: 'orange', 11: 'yellow'}\n"
     ]
    }
   ],
   "source": [
    "# Convert to categorical and print the frequency table\n",
    "used_cars[\"color\"] = used_cars[\"color\"].astype(\"category\")\n",
    "print(used_cars[\"color\"].value_counts())\n",
    "\n",
    "# Create a label encoding\n",
    "used_cars[\"color_code\"] = used_cars[\"color\"].cat.codes\n",
    "\n",
    "# Create codes and categories objects\n",
    "codes = used_cars[\"color\"].cat.codes\n",
    "categories = used_cars[\"color\"]\n",
    "color_map = dict(zip(codes, categories))\n",
    "\n",
    "# Print the map\n",
    "print(color_map)"
   ]
  },
  {
   "cell_type": "markdown",
   "metadata": {},
   "source": [
    "- Update the \"color\" column back to its original values using the color_map dictionary.\n",
    "- Update the \"engine_fuel\" column back to its original values using the fuel_map dictionary.\n",
    "- Update the \"transmission\" column back to its original values using the transmission_map dictionary.\n",
    "- Use .info() on the dataset to see if the dtypes have changed."
   ]
  },
  {
   "cell_type": "code",
   "execution_count": 12,
   "metadata": {},
   "outputs": [],
   "source": [
    "# # Update the color column using the color_map\n",
    "# used_cars_updated[\"color\"] = used_cars_updated[\"color\"].map(color_map)\n",
    "# # Update the engine fuel column using the fuel_map\n",
    "# used_cars_updated[\"engine_fuel\"] = used_cars_updated[\"engine_fuel\"].map(fuel_map)\n",
    "# # Update the transmission column using the transmission_map\n",
    "# used_cars_updated[\"transmission\"] = used_cars_updated[\"transmission\"].map(transmission_map)\n",
    "\n",
    "# # Print the info statement\n",
    "# print(used_cars_updated.info())"
   ]
  },
  {
   "cell_type": "markdown",
   "metadata": {},
   "source": [
    "- Print the frequency table of the \"manufacturer_name\" column\n",
    "- Create a column, \"is_volkswagen\", that is True when \"manufacturer_name\" contains \"Volkswagen\" and False otherwise."
   ]
  },
  {
   "cell_type": "code",
   "execution_count": 14,
   "metadata": {},
   "outputs": [
    {
     "name": "stdout",
     "output_type": "stream",
     "text": [
      "Volkswagen       4243\n",
      "Opel             2759\n",
      "BMW              2610\n",
      "Ford             2566\n",
      "Renault          2493\n",
      "Audi             2468\n",
      "Mercedes-Benz    2237\n",
      "Peugeot          1909\n",
      "Citroen          1562\n",
      "Nissan           1361\n",
      "Mazda            1328\n",
      "Toyota           1246\n",
      "Hyundai          1116\n",
      "Skoda            1089\n",
      "Kia               912\n",
      "Mitsubishi        887\n",
      "Fiat              824\n",
      "Honda             797\n",
      "Volvo             721\n",
      "ВАЗ               481\n",
      "Chevrolet         436\n",
      "Chrysler          410\n",
      "Seat              303\n",
      "Dodge             297\n",
      "Subaru            291\n",
      "Rover             235\n",
      "Suzuki            234\n",
      "Daewoo            221\n",
      "Lexus             213\n",
      "Alfa Romeo        207\n",
      "ГАЗ               200\n",
      "Land Rover        184\n",
      "Infiniti          162\n",
      "LADA              146\n",
      "Iveco             139\n",
      "Saab              108\n",
      "Jeep              107\n",
      "Lancia             92\n",
      "SsangYong          79\n",
      "УАЗ                74\n",
      "Geely              71\n",
      "Mini               68\n",
      "Acura              66\n",
      "Porsche            61\n",
      "Dacia              59\n",
      "Chery              58\n",
      "Москвич            55\n",
      "Jaguar             53\n",
      "Buick              47\n",
      "Lifan              47\n",
      "Cadillac           43\n",
      "Pontiac            42\n",
      "ЗАЗ                42\n",
      "Lincoln            36\n",
      "Great Wall         36\n",
      "Name: manufacturer_name, dtype: int64\n"
     ]
    }
   ],
   "source": [
    "import numpy as np\n",
    "# Print the manufacturer name frequency table\n",
    "print(used_cars[\"manufacturer_name\"].value_counts())\n",
    "\n",
    "# Create a Boolean column based on if the manufacturer name that contain Volkswagen\n",
    "used_cars[\"is_volkswagen\"] = np.where(\n",
    "  used_cars[\"manufacturer_name\"].str.contains(\"Volkswagen\", regex=False), True, False)"
   ]
  },
  {
   "cell_type": "markdown",
   "metadata": {},
   "source": [
    "- Update the code so that a 1 is used instead of True and a 0 is used instead of False so Python can use this column in algorithms.\n",
    "- Print out a frequency table for the newly created column."
   ]
  },
  {
   "cell_type": "code",
   "execution_count": 15,
   "metadata": {},
   "outputs": [
    {
     "name": "stdout",
     "output_type": "stream",
     "text": [
      "Volkswagen       4243\n",
      "Opel             2759\n",
      "BMW              2610\n",
      "Ford             2566\n",
      "Renault          2493\n",
      "Audi             2468\n",
      "Mercedes-Benz    2237\n",
      "Peugeot          1909\n",
      "Citroen          1562\n",
      "Nissan           1361\n",
      "Mazda            1328\n",
      "Toyota           1246\n",
      "Hyundai          1116\n",
      "Skoda            1089\n",
      "Kia               912\n",
      "Mitsubishi        887\n",
      "Fiat              824\n",
      "Honda             797\n",
      "Volvo             721\n",
      "ВАЗ               481\n",
      "Chevrolet         436\n",
      "Chrysler          410\n",
      "Seat              303\n",
      "Dodge             297\n",
      "Subaru            291\n",
      "Rover             235\n",
      "Suzuki            234\n",
      "Daewoo            221\n",
      "Lexus             213\n",
      "Alfa Romeo        207\n",
      "ГАЗ               200\n",
      "Land Rover        184\n",
      "Infiniti          162\n",
      "LADA              146\n",
      "Iveco             139\n",
      "Saab              108\n",
      "Jeep              107\n",
      "Lancia             92\n",
      "SsangYong          79\n",
      "УАЗ                74\n",
      "Geely              71\n",
      "Mini               68\n",
      "Acura              66\n",
      "Porsche            61\n",
      "Dacia              59\n",
      "Chery              58\n",
      "Москвич            55\n",
      "Jaguar             53\n",
      "Buick              47\n",
      "Lifan              47\n",
      "Cadillac           43\n",
      "Pontiac            42\n",
      "ЗАЗ                42\n",
      "Lincoln            36\n",
      "Great Wall         36\n",
      "Name: manufacturer_name, dtype: int64\n",
      "0    34288\n",
      "1     4243\n",
      "Name: is_volkswagen, dtype: int64\n"
     ]
    }
   ],
   "source": [
    "# Print the \"manufacturer_name\" frequency table.\n",
    "print(used_cars[\"manufacturer_name\"].value_counts())\n",
    "\n",
    "# Create a Boolean column for the most common manufacturer name\n",
    "used_cars[\"is_volkswagen\"] = np.where(\n",
    "  used_cars[\"manufacturer_name\"].str.contains(\"Volkswagen\", regex=False), 1, 0\n",
    ")\n",
    "  \n",
    "# Check the final frequency table\n",
    "print(used_cars[\"is_volkswagen\"].value_counts())"
   ]
  },
  {
   "cell_type": "markdown",
   "metadata": {},
   "source": [
    "- Create a new dataset, used_cars_simple, with one-hot encoding for these columns: \"manufacturer_name\" and \"transmission\" (in this order).\n",
    "- Set the prefix of all new columns to \"dummy\", so that you can easily filter to newly created columns."
   ]
  },
  {
   "cell_type": "code",
   "execution_count": 16,
   "metadata": {},
   "outputs": [
    {
     "name": "stdout",
     "output_type": "stream",
     "text": [
      "(38531, 87)\n"
     ]
    }
   ],
   "source": [
    "# Create one-hot encoding for just two columns\n",
    "used_cars_simple = pd.get_dummies(\n",
    "  used_cars,\n",
    "  # Specify the columns from the instructions\n",
    "  columns = [\"manufacturer_name\" , \"transmission\"],\n",
    "  # Set the prefix\n",
    "  prefix=\"dummy\"\n",
    ")\n",
    "\n",
    "# Print the shape of the new dataset\n",
    "print(used_cars_simple.shape)"
   ]
  }
 ],
 "metadata": {
  "interpreter": {
   "hash": "3fef59229a6e1ff5434759995be53a28a25493efd6d26eb6c004eefe62e31083"
  },
  "kernelspec": {
   "display_name": "Python 3.8.11 ('env_py')",
   "language": "python",
   "name": "python3"
  },
  "language_info": {
   "codemirror_mode": {
    "name": "ipython",
    "version": 3
   },
   "file_extension": ".py",
   "mimetype": "text/x-python",
   "name": "python",
   "nbconvert_exporter": "python",
   "pygments_lexer": "ipython3",
   "version": "3.8.11"
  },
  "orig_nbformat": 4
 },
 "nbformat": 4,
 "nbformat_minor": 2
}
