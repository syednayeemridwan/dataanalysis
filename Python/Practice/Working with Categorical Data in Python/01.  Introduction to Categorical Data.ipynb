{
 "cells": [
  {
   "cell_type": "markdown",
   "metadata": {},
   "source": [
    "- Explore the Above/Below 50k variable by printing out a description of the variable's contents.\n",
    "- Explore the Above/Below 50k variable by printing out a frequency table of the values found in this column.\n",
    "- Rerun .value_counts(), but this time print out the relative frequency values instead of the counts.\n"
   ]
  },
  {
   "cell_type": "code",
   "execution_count": 2,
   "metadata": {},
   "outputs": [
    {
     "name": "stdout",
     "output_type": "stream",
     "text": [
      "count      32561\n",
      "unique         2\n",
      "top        <=50K\n",
      "freq       24720\n",
      "Name: Above/Below 50k, dtype: object\n",
      " <=50K    24720\n",
      " >50K      7841\n",
      "Name: Above/Below 50k, dtype: int64\n",
      " <=50K    0.75919\n",
      " >50K     0.24081\n",
      "Name: Above/Below 50k, dtype: float64\n"
     ]
    }
   ],
   "source": [
    "import pandas as pd\n",
    "adult = pd.read_csv(\"adult.csv\")\n",
    "\n",
    "# Explore the Above/Below 50k variable\n",
    "print(adult[\"Above/Below 50k\"].describe())\n",
    "\n",
    "# Print a frequency table of \"Above/Below 50k\"\n",
    "print(adult[\"Above/Below 50k\"].value_counts())\n",
    "\n",
    "# Print relative frequency values\n",
    "print(adult[\"Above/Below 50k\"].value_counts(normalize = True))"
   ]
  },
  {
   "cell_type": "markdown",
   "metadata": {},
   "source": [
    "- Create a pandas Series, series1, using the list_of_occupations (do not set the dtype).\n",
    "- Print both the data type and number of bytes used of this new Series.\n",
    "- Create a second pandas Series, series2, using the list_of_occupations and set the dtype to \"category\".\n",
    "- Print both the data type and number of bytes used of this new Series."
   ]
  },
  {
   "cell_type": "code",
   "execution_count": 3,
   "metadata": {},
   "outputs": [],
   "source": [
    "# # Create a Series, default dtype\n",
    "# series1 = pd.Series(list_of_occupations)\n",
    "\n",
    "# # Print out the data type and number of bytes for series1\n",
    "# print(\"series1 data type:\", series1.dtype)\n",
    "# print(\"series1 number of bytes:\", series1.nbytes)\n",
    "\n",
    "# # Create a Series, \"category\" dtype\n",
    "# series2 = pd.Series(list_of_occupations, dtype=\"category\")\n",
    "\n",
    "# # Print out the data type and number of bytes for series2\n",
    "# print(\"series2 data type:\", series2.dtype)\n",
    "# print(\"series2 number of bytes:\", series2.nbytes)"
   ]
  },
  {
   "cell_type": "markdown",
   "metadata": {},
   "source": [
    "- Create a categorical pandas Series without using pd.Series().\n",
    "- Specify the three known medal categories such that \"Bronze\" < \"Silver\" < \"Gold\".\n",
    "- Specify that the order of the categories is important when creating this Series."
   ]
  },
  {
   "cell_type": "code",
   "execution_count": 4,
   "metadata": {},
   "outputs": [],
   "source": [
    "# # Create a categorical Series and specify the categories (let pandas know the order matters!)\n",
    "# medals = pd.Categorical(medals_won, categories = [\"Bronze\" ,\"Silver\" , \"Gold\"], ordered = True)\n",
    "# print(medals)"
   ]
  },
  {
   "cell_type": "markdown",
   "metadata": {},
   "source": [
    "- Call the correct attribute on the adult DataFrame to review the data types.\n",
    "- Create a dictionary with keys: \"Workclass\", \"Education\", \"Relationship\", and \"Above/Below 50k\".\n",
    "- Set the value for each key to be \"category\".\n",
    "- Use the newly created dictionary, adult_dtypes, when reading in adult.csv"
   ]
  },
  {
   "cell_type": "code",
   "execution_count": 5,
   "metadata": {},
   "outputs": [
    {
     "name": "stdout",
     "output_type": "stream",
     "text": [
      "Age                 int64\n",
      "Workclass          object\n",
      "fnlgwt              int64\n",
      "Education          object\n",
      "Education Num       int64\n",
      "Marital Status     object\n",
      "Occupation         object\n",
      "Relationship       object\n",
      "Race               object\n",
      "Sex                object\n",
      "Capital Gain        int64\n",
      "Capital Loss        int64\n",
      "Hours/Week          int64\n",
      "Country            object\n",
      "Above/Below 50k    object\n",
      "dtype: object\n",
      "Age                   int64\n",
      "Workclass          category\n",
      "fnlgwt                int64\n",
      "Education          category\n",
      "Education Num         int64\n",
      "Marital Status       object\n",
      "Occupation           object\n",
      "Relationship       category\n",
      "Race                 object\n",
      "Sex                  object\n",
      "Capital Gain          int64\n",
      "Capital Loss          int64\n",
      "Hours/Week            int64\n",
      "Country              object\n",
      "Above/Below 50k    category\n",
      "dtype: object\n"
     ]
    }
   ],
   "source": [
    "# Check the dtypes\n",
    "print(adult.dtypes)\n",
    "\n",
    "# Create a dictionary with column names as keys and \"category\" as values\n",
    "adult_dtypes = {\n",
    "   \"Workclass\": \"category\",\n",
    "   \"Education\": \"category\",\n",
    "   \"Relationship\": \"category\",\n",
    "   \"Above/Below 50k\": \"category\" \n",
    "}\n",
    "\n",
    "# Read in the CSV using the dtypes parameter\n",
    "adult2 = pd.read_csv(\n",
    "  \"adult.csv\",\n",
    "  dtype = adult_dtypes\n",
    ")\n",
    "print(adult2.dtypes)"
   ]
  },
  {
   "cell_type": "markdown",
   "metadata": {},
   "source": [
    "How many groups are in the gb object and what is the maximum possible number of groups that could have been created?\n",
    "- 208 groups are created out of 288 (2 * 9 * 16) possible groups."
   ]
  },
  {
   "cell_type": "code",
   "execution_count": 6,
   "metadata": {},
   "outputs": [
    {
     "data": {
      "text/plain": [
       "Workclass     Above/Below 50k  Education    \n",
       " ?             <=50K            10th             98\n",
       "                                11th            118\n",
       "                                12th             38\n",
       "                                1st-4th          12\n",
       "                                5th-6th          28\n",
       "                                               ... \n",
       " State-gov     >50K             Some-college     31\n",
       " Without-pay   <=50K            7th-8th           1\n",
       "                                Assoc-acdm        1\n",
       "                                HS-grad           9\n",
       "                                Some-college      3\n",
       "Length: 208, dtype: int64"
      ]
     },
     "execution_count": 6,
     "metadata": {},
     "output_type": "execute_result"
    }
   ],
   "source": [
    "gb = adult.groupby(by=[\"Workclass\", \"Above/Below 50k\", \"Education\"])\n",
    "gb.size()"
   ]
  },
  {
   "cell_type": "markdown",
   "metadata": {},
   "source": [
    "- Split the adult dataset across the \"Sex\" and \"Above/Below 50k\" columns, saving this object as gb.\n",
    "- Print out the number of observations found in each group.\n",
    "- Using gb, find the average of each numerical column."
   ]
  },
  {
   "cell_type": "code",
   "execution_count": 7,
   "metadata": {},
   "outputs": [
    {
     "name": "stdout",
     "output_type": "stream",
     "text": [
      "Sex      Above/Below 50k\n",
      " Female   <=50K              9592\n",
      "          >50K               1179\n",
      " Male     <=50K             15128\n",
      "          >50K               6662\n",
      "dtype: int64\n",
      "                               Age         fnlgwt  Education Num  \\\n",
      "Sex     Above/Below 50k                                            \n",
      " Female  <=50K           36.210801  185999.381359       9.820475   \n",
      "         >50K            42.125530  183687.406277      11.787108   \n",
      " Male    <=50K           37.147012  193093.609268       9.452142   \n",
      "         >50K            44.625788  188769.101321      11.580606   \n",
      "\n",
      "                         Capital Gain  Capital Loss  Hours/Week  \n",
      "Sex     Above/Below 50k                                          \n",
      " Female  <=50K             121.986134     47.364470   35.916701  \n",
      "         >50K             4200.389313    173.648855   40.426633  \n",
      " Male    <=50K             165.723823     56.806782   40.693879  \n",
      "         >50K             3971.765836    198.780396   46.366106  \n"
     ]
    }
   ],
   "source": [
    "# Group the adult dataset by \"Sex\" and \"Above/Below 50k\"\n",
    "gb = adult.groupby(by = [\"Sex\" , \"Above/Below 50k\"])\n",
    "\n",
    "# Print out how many rows are in each created group\n",
    "print(gb.size())\n",
    "\n",
    "# Print out the mean of each group for all columns\n",
    "print(gb.mean())"
   ]
  },
  {
   "cell_type": "markdown",
   "metadata": {},
   "source": [
    "- Create a list of the names for two user-selected variables: \"Education\" and \"Above/Below 50k\".\n",
    "- Create a GroupBy object, gb, using the user_list as the grouping variables.\n",
    "- Calculate the mean of \"Hours/Week\" across each group using the most efficient approach covered in the video."
   ]
  },
  {
   "cell_type": "code",
   "execution_count": 8,
   "metadata": {},
   "outputs": [
    {
     "name": "stdout",
     "output_type": "stream",
     "text": [
      "Education      Above/Below 50k\n",
      " 10th           <=50K             36.574053\n",
      "                >50K              43.774194\n",
      " 11th           <=50K             33.322870\n",
      "                >50K              45.133333\n",
      " 12th           <=50K             35.035000\n",
      "                >50K              44.818182\n",
      " 1st-4th        <=50K             37.864198\n",
      "                >50K              48.833333\n",
      " 5th-6th        <=50K             38.539432\n",
      "                >50K              46.000000\n",
      " 7th-8th        <=50K             38.830033\n",
      "                >50K              47.500000\n",
      " 9th            <=50K             37.667351\n",
      "                >50K              44.851852\n",
      " Assoc-acdm     <=50K             39.264339\n",
      "                >50K              44.256604\n",
      " Assoc-voc      <=50K             40.817826\n",
      "                >50K              43.853186\n",
      " Bachelors      <=50K             40.586152\n",
      "                >50K              45.475462\n",
      " Doctorate      <=50K             45.429907\n",
      "                >50K              47.513072\n",
      " HS-grad        <=50K             39.727510\n",
      "                >50K              45.042985\n",
      " Masters        <=50K             41.223822\n",
      "                >50K              45.917623\n",
      " Preschool      <=50K             36.647059\n",
      " Prof-school    <=50K             42.816993\n",
      "                >50K              49.092199\n",
      " Some-college   <=50K             37.450203\n",
      "                >50K              44.820476\n",
      "Name: Hours/Week, dtype: float64\n"
     ]
    }
   ],
   "source": [
    "# Create a list of user-selected variables\n",
    "user_list = [\"Education\" , \"Above/Below 50k\"]\n",
    "\n",
    "# Create a GroupBy object using this list\n",
    "gb = adult.groupby(by = user_list)\n",
    "\n",
    "# Find the mean for the variable \"Hours/Week\" for each group - Be efficient!\n",
    "print(gb[\"Hours/Week\"].mean())"
   ]
  }
 ],
 "metadata": {
  "interpreter": {
   "hash": "3fef59229a6e1ff5434759995be53a28a25493efd6d26eb6c004eefe62e31083"
  },
  "kernelspec": {
   "display_name": "Python 3.8.11 ('env_py')",
   "language": "python",
   "name": "python3"
  },
  "language_info": {
   "codemirror_mode": {
    "name": "ipython",
    "version": 3
   },
   "file_extension": ".py",
   "mimetype": "text/x-python",
   "name": "python",
   "nbconvert_exporter": "python",
   "pygments_lexer": "ipython3",
   "version": "3.8.11"
  },
  "orig_nbformat": 4
 },
 "nbformat": 4,
 "nbformat_minor": 2
}
