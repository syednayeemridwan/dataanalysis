{
 "cells": [
  {
   "cell_type": "markdown",
   "metadata": {},
   "source": [
    "- Get a sense of the contents of dhs_daily_report.json, which are printed in the console.\n",
    "- Load pandas as pd.\n",
    "- Use read_json() to load dhs_daily_report.json to a dataframe, pop_in_shelters.\n",
    "- View summary statistics about pop_in_shelters with the dataframe's describe() method."
   ]
  },
  {
   "cell_type": "code",
   "execution_count": 2,
   "metadata": {},
   "outputs": [],
   "source": [
    "# # Load pandas as pd\n",
    "# import pandas as pd\n",
    "\n",
    "# # Load the daily report to a dataframe\n",
    "# pop_in_shelters = pd.read_json(\"dhs_daily_report.json\")\n",
    "\n",
    "# # View summary stats about pop_in_shelters\n",
    "# print(pop_in_shelters.describe())"
   ]
  },
  {
   "cell_type": "markdown",
   "metadata": {},
   "source": [
    "- Try loading dhs_report_reformatted.json without any keyword arguments."
   ]
  },
  {
   "cell_type": "code",
   "execution_count": 3,
   "metadata": {},
   "outputs": [],
   "source": [
    "# try:\n",
    "#     # Load the JSON without keyword arguments\n",
    "#     df = pd.read_json(\"dhs_report_reformatted.json\")\n",
    "    \n",
    "#     # Plot total population in shelters over time\n",
    "#     df[\"date_of_census\"] = pd.to_datetime(df[\"date_of_census\"])\n",
    "#     df.plot(x=\"date_of_census\", \n",
    "#             y=\"total_individuals_in_shelter\")\n",
    "#     plt.show()\n",
    "    \n",
    "# except ValueError:\n",
    "#     print(\"pandas could not parse the JSON.\")"
   ]
  },
  {
   "cell_type": "markdown",
   "metadata": {},
   "source": [
    "- Load dhs_report_reformatted.json to a dataframe with orient specified."
   ]
  },
  {
   "cell_type": "code",
   "execution_count": 4,
   "metadata": {},
   "outputs": [],
   "source": [
    "# try:\n",
    "#     # Load the JSON with orient specified\n",
    "#     df = pd.read_json(\"dhs_report_reformatted.json\",\n",
    "#                       orient = \"split\")\n",
    "    \n",
    "#     # Plot total population in shelters over time\n",
    "#     df[\"date_of_census\"] = pd.to_datetime(df[\"date_of_census\"])\n",
    "#     df.plot(x=\"date_of_census\", \n",
    "#             y=\"total_individuals_in_shelter\")\n",
    "#     plt.show()\n",
    "    \n",
    "# except ValueError:\n",
    "#     print(\"pandas could not parse the JSON.\")"
   ]
  },
  {
   "cell_type": "markdown",
   "metadata": {},
   "source": [
    "- Get data about New York City cafes from the Yelp API (api_url) with requests.get(). The necessary params and headers information has been provided.\n",
    "- Extract the JSON data from the response with its json() method, and assign it to data.\n",
    "- Load the cafe listings to the dataframe cafes with pandas's DataFrame() function. The listings are under the \"businesses\" key in data.\n",
    "- Print the dataframe's dtypes to see what information you're getting."
   ]
  },
  {
   "cell_type": "code",
   "execution_count": 5,
   "metadata": {},
   "outputs": [],
   "source": [
    "# api_url = \"https://api.yelp.com/v3/businesses/search\"\n",
    "\n",
    "# # Get data about NYC cafes from the Yelp API\n",
    "# response = requests.get(api_url, \n",
    "#                 headers=headers, \n",
    "#                 params=params)\n",
    "\n",
    "# # Extract JSON data from the response\n",
    "# data = response.json()\n",
    "\n",
    "# # Load data to a dataframe\n",
    "# cafes = pd.DataFrame(data[\"businesses\"])\n",
    "\n",
    "# # View the data's dtypes\n",
    "# print(cafes.dtypes)"
   ]
  },
  {
   "cell_type": "markdown",
   "metadata": {},
   "source": [
    "- Create a dictionary, parameters, with the term and location parameters set to search for \"cafe\"s in \"NYC\".\n",
    "- Query the Yelp API (api_url) with requests's get() function and the headers and params keyword arguments set. Save the result as response.\n",
    "- Extract the JSON data from response with the appropriate method. Save the result as data.\n",
    "- Load the \"businesses\" values in data to the dataframe cafes and print the head."
   ]
  },
  {
   "cell_type": "code",
   "execution_count": 6,
   "metadata": {},
   "outputs": [],
   "source": [
    "# # Create dictionary to query API for cafes in NYC\n",
    "# parameters = {\"term\" : \"cafe\",\n",
    "#           \t  \"location\" : \"NYC\"}\n",
    "\n",
    "# # Query the Yelp API with headers and params set\n",
    "# response = requests.get(api_url,\n",
    "#                 params = parameters,\n",
    "#                 headers = headers)\n",
    "\n",
    "# # Extract JSON data from response\n",
    "# data = response.json()\n",
    "\n",
    "# # Load \"businesses\" values to a dataframe and print head\n",
    "# cafes = pd.DataFrame(data[\"businesses\"])\n",
    "# print(cafes.head())"
   ]
  },
  {
   "cell_type": "markdown",
   "metadata": {},
   "source": [
    "- Create a dictionary, headers, that passes the formatted key string to the \"Authorization\" header value.\n",
    "- Query the Yelp API (api_url) with get() and the necessary headers and parameters. Save the result as response.\n",
    "- Extract the JSON data from response. Save the result as data.\n",
    "- Load the \"businesses\" values in data to the dataframe cafes and print the names column."
   ]
  },
  {
   "cell_type": "code",
   "execution_count": 7,
   "metadata": {},
   "outputs": [],
   "source": [
    "# # Create dictionary that passes Authorization and key string\n",
    "# headers = {\"Authorization\": \"Bearer {}\".format(api_key)}\n",
    "\n",
    "# # Query the Yelp API with headers and params set\n",
    "# response = requests.get(api_url,\n",
    "# headers = headers,\n",
    "# params = params)\n",
    "\n",
    "# # Extract JSON data from response\n",
    "# data = response.json()\n",
    "\n",
    "# # Load \"businesses\" values to a dataframe and print names\n",
    "# cafes = pd.DataFrame(data[\"businesses\"])\n",
    "# print(cafes.name)"
   ]
  },
  {
   "cell_type": "markdown",
   "metadata": {},
   "source": [
    "- Load the json_normalize() function from pandas' io.json submodule.\n",
    "- Isolate the JSON data from response and assign it to data.\n",
    "- Use json_normalize() to flatten and load the businesses data to a dataframe, cafes. Set the sep argument to use underscores (_), rather than periods.\n",
    "- Show the data head."
   ]
  },
  {
   "cell_type": "code",
   "execution_count": 8,
   "metadata": {},
   "outputs": [],
   "source": [
    "# # Load json_normalize()\n",
    "# from pandas.io.json import json_normalize\n",
    "\n",
    "# # Isolate the JSON data from the API response\n",
    "# data = response.json()\n",
    "\n",
    "# # Flatten business data into a dataframe, replace separator\n",
    "# cafes = json_normalize(data[\"businesses\"],\n",
    "#              sep = \"_\")\n",
    "\n",
    "# # View data\n",
    "# print(cafes.head())"
   ]
  },
  {
   "cell_type": "markdown",
   "metadata": {},
   "source": [
    "- Use json_normalize() to flatten records under the businesses key in data, setting underscores (_) as separators.\n",
    "- Specify the record_path to the categories data.\n",
    "- Set the meta keyword argument to get business name, alias, rating, and the attributes nested under coordinates: latitude and longitude.\n",
    "- Add \"biz_\" as a meta_prefix to prevent duplicate column names."
   ]
  },
  {
   "cell_type": "code",
   "execution_count": 9,
   "metadata": {},
   "outputs": [],
   "source": [
    "# # Load other business attributes and set meta prefix\n",
    "# flat_cafes = json_normalize(data[\"businesses\"],\n",
    "#                             sep=\"_\",\n",
    "#                     \t\trecord_path=\"categories\",\n",
    "#                     \t\tmeta=[\"name\", \n",
    "#                                   \"alias\",  \n",
    "#                                   \"rating\",\n",
    "#                           \t\t  [\"coordinates\", \"latitude\"], \n",
    "#                           \t\t  [\"coordinates\", \"longitude\"]],\n",
    "#                     \t\tmeta_prefix=\"biz_\")\n",
    "\n",
    "# # View the data\n",
    "# print(flat_cafes.head())"
   ]
  },
  {
   "cell_type": "markdown",
   "metadata": {},
   "source": [
    "- Add an \"offset\" parameter to params so that the Yelp API call will get cafes 51-100.\n",
    "- Append the results of the API call to top_50_cafes, setting ignore_index so rows will be renumbered.\n",
    "- Print the shape of the resulting dataframe, cafes, to confirm there are 100 records."
   ]
  },
  {
   "cell_type": "code",
   "execution_count": 10,
   "metadata": {},
   "outputs": [],
   "source": [
    "# # Add an offset parameter to get cafes 51-100\n",
    "# params = {\"term\": \"cafe\", \n",
    "#           \"location\": \"NYC\",\n",
    "#           \"sort_by\": \"rating\", \n",
    "#           \"limit\": 50,\n",
    "#           \"offset\": 50}\n",
    "\n",
    "# result = requests.get(api_url, headers=headers, params=params)\n",
    "# next_50_cafes = json_normalize(result.json()[\"businesses\"])\n",
    "\n",
    "# # Append the results, setting ignore_index to renumber rows\n",
    "# cafes = top_50_cafes.append(next_50_cafes, ignore_index = True)\n",
    "\n",
    "# # Print shape of cafes\n",
    "# print(cafes.shape)"
   ]
  },
  {
   "cell_type": "markdown",
   "metadata": {},
   "source": [
    "- Use the DataFrame method to merge cafes and crosswalk on location_zip_code and zipcode, respectively. Assign the result to cafes_with_pumas.\n",
    "- Merge pop_data into cafes_with_pumas on their puma fields. Save the result as cafes_with_pop."
   ]
  },
  {
   "cell_type": "code",
   "execution_count": 11,
   "metadata": {},
   "outputs": [],
   "source": [
    "# # Merge crosswalk into cafes on their zip code fields\n",
    "# cafes_with_pumas = cafes.merge(crosswalk, left_on = \"location_zip_code\", right_on = \"zipcode\")\n",
    "\n",
    "\n",
    "\n",
    "# # Merge pop_data into cafes_with_pumas on puma field\n",
    "# cafes_with_pop = cafes_with_pumas.merge(pop_data, on = \"puma\")\n",
    "\n",
    "# # View the data\n",
    "# print(cafes_with_pop.head())"
   ]
  }
 ],
 "metadata": {
  "interpreter": {
   "hash": "3fef59229a6e1ff5434759995be53a28a25493efd6d26eb6c004eefe62e31083"
  },
  "kernelspec": {
   "display_name": "Python 3.8.11 ('env_py')",
   "language": "python",
   "name": "python3"
  },
  "language_info": {
   "codemirror_mode": {
    "name": "ipython",
    "version": 3
   },
   "file_extension": ".py",
   "mimetype": "text/x-python",
   "name": "python",
   "nbconvert_exporter": "python",
   "pygments_lexer": "ipython3",
   "version": "3.8.11"
  },
  "orig_nbformat": 4
 },
 "nbformat": 4,
 "nbformat_minor": 2
}
