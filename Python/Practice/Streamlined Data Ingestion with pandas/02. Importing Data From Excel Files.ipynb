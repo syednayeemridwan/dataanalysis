{
 "cells": [
  {
   "cell_type": "markdown",
   "metadata": {},
   "source": [
    "- Load the pandas library as pd.\n",
    "- Read in fcc_survey.xlsx and assign it to the variable survey_responses.\n",
    "- Print the first few records of survey_responses."
   ]
  },
  {
   "cell_type": "code",
   "execution_count": 2,
   "metadata": {},
   "outputs": [
    {
     "name": "stdout",
     "output_type": "stream",
     "text": [
      "   FreeCodeCamp New Developer Survey Responses, 2016        Unnamed: 1  \\\n",
      "0  Source: https://www.kaggle.com/freecodecamp/20...               NaN   \n",
      "1                                                Age  AttendedBootcamp   \n",
      "2                                                 28                 0   \n",
      "3                                                 22                 0   \n",
      "4                                                 19                 0   \n",
      "\n",
      "       Unnamed: 2         Unnamed: 3    Unnamed: 4         Unnamed: 5  \\\n",
      "0             NaN                NaN           NaN                NaN   \n",
      "1  BootcampFinish  BootcampLoanYesNo  BootcampName  BootcampRecommend   \n",
      "2             NaN                NaN           NaN                NaN   \n",
      "3             NaN                NaN           NaN                NaN   \n",
      "4             NaN                NaN           NaN                NaN   \n",
      "\n",
      "       Unnamed: 6                     Unnamed: 7            Unnamed: 8  \\\n",
      "0             NaN                            NaN                   NaN   \n",
      "1  ChildrenNumber                 CityPopulation  CodeEventConferences   \n",
      "2             NaN  between 100,000 and 1 million                   NaN   \n",
      "3             NaN  between 100,000 and 1 million                   NaN   \n",
      "4             NaN            more than 1 million                   NaN   \n",
      "\n",
      "             Unnamed: 9  ...          Unnamed: 88         Unnamed: 89  \\\n",
      "0                   NaN  ...                  NaN                 NaN   \n",
      "1  CodeEventDjangoGirls  ...  ResourcePluralSight  ResourceSkillCrush   \n",
      "2                   NaN  ...                  NaN                 NaN   \n",
      "3                   NaN  ...                  NaN                 NaN   \n",
      "4                   NaN  ...                  NaN                 NaN   \n",
      "\n",
      "             Unnamed: 90        Unnamed: 91      Unnamed: 92    Unnamed: 93  \\\n",
      "0                    NaN                NaN              NaN            NaN   \n",
      "1  ResourceStackOverflow  ResourceTreehouse  ResourceUdacity  ResourceUdemy   \n",
      "2                    NaN                NaN              NaN            NaN   \n",
      "3                    NaN                NaN              NaN              1   \n",
      "4                    NaN                NaN              NaN            NaN   \n",
      "\n",
      "         Unnamed: 94                              Unnamed: 95  Unnamed: 96  \\\n",
      "0                NaN                                      NaN          NaN   \n",
      "1  ResourceW3Schools                             SchoolDegree  SchoolMajor   \n",
      "2                NaN           some college credit, no degree          NaN   \n",
      "3                NaN           some college credit, no degree          NaN   \n",
      "4                NaN  high school diploma or equivalent (GED)          NaN   \n",
      "\n",
      "      Unnamed: 97  \n",
      "0             NaN  \n",
      "1  StudentDebtOwe  \n",
      "2           20000  \n",
      "3             NaN  \n",
      "4             NaN  \n",
      "\n",
      "[5 rows x 98 columns]\n"
     ]
    }
   ],
   "source": [
    "# Load pandas as pd\n",
    "import pandas as pd\n",
    "\n",
    "# Read spreadsheet and assign it to survey_responses\n",
    "survey_responses = pd.read_excel(\"fcc-new-coder-survey.xlsx\")\n",
    "\n",
    "# View the head of the dataframe\n",
    "print(survey_responses.head())"
   ]
  },
  {
   "cell_type": "markdown",
   "metadata": {},
   "source": [
    "- Create a single string, col_string, specifying that pandas should load column AD and the range AW through BA.\n",
    "- Load fcc_survey_headers.xlsx', setting skiprows and usecols to skip the first two rows of metadata and get only the columns in col_string.\n",
    "- View the selected column names in the resulting dataframe."
   ]
  },
  {
   "cell_type": "code",
   "execution_count": 4,
   "metadata": {},
   "outputs": [
    {
     "name": "stdout",
     "output_type": "stream",
     "text": [
      "Index(['ExpectedEarning', 'JobApplyWhen', 'JobPref', 'JobRelocateYesNo',\n",
      "       'JobRoleInterest', 'JobWherePref'],\n",
      "      dtype='object')\n"
     ]
    }
   ],
   "source": [
    "# Create string of lettered columns to load\n",
    "col_string = \"AD, AW:BA\"\n",
    "\n",
    "# Load data with skiprows and usecols set\n",
    "survey_responses = pd.read_excel(\"fcc-new-coder-survey.xlsx\", \n",
    "                        usecols = col_string, \n",
    "                        skiprows = 2)\n",
    "\n",
    "# View the names of the columns selected\n",
    "print(survey_responses.columns)"
   ]
  },
  {
   "cell_type": "markdown",
   "metadata": {},
   "source": [
    "- Create a dataframe from the second workbook sheet by passing the sheet's position to sheet_name."
   ]
  },
  {
   "cell_type": "code",
   "execution_count": 9,
   "metadata": {},
   "outputs": [],
   "source": [
    "# import matplotlib.pyplot as plt\n",
    "# # Create df from second worksheet by referencing its position\n",
    "# responses_2017 = pd.read_excel(\"fcc-new-coder-survey.xlsx\",\n",
    "#                                sheet_name = 1)\n",
    "# print(responses_2017.columns)\n",
    "\n",
    "# # Graph where people would like to get a developer job\n",
    "# job_prefs = responses_2017.groupby(\"JobPref\").JobPref.count()\n",
    "# job_prefs.plot.barh()\n",
    "# plt.show()"
   ]
  },
  {
   "cell_type": "markdown",
   "metadata": {},
   "source": [
    "- Create a dataframe from the 2017 sheet by providing the sheet's name to read_excel()."
   ]
  },
  {
   "cell_type": "code",
   "execution_count": 10,
   "metadata": {},
   "outputs": [],
   "source": [
    "# # Create df from second worksheet by referencing its name\n",
    "# responses_2017 = pd.read_excel(\"fcc_survey.xlsx\",\n",
    "#                                sheet_name = \"2017\")\n",
    "\n",
    "# # Graph where people would like to get a developer job\n",
    "# job_prefs = responses_2017.groupby(\"JobPref\").JobPref.count()\n",
    "# job_prefs.plot.barh()\n",
    "# plt.show()"
   ]
  },
  {
   "cell_type": "markdown",
   "metadata": {},
   "source": [
    "- Load both the 2016 and 2017 sheets by name with a list and one call to read_excel()."
   ]
  },
  {
   "cell_type": "code",
   "execution_count": 14,
   "metadata": {},
   "outputs": [
    {
     "name": "stdout",
     "output_type": "stream",
     "text": [
      "<class 'dict'>\n"
     ]
    }
   ],
   "source": [
    "# Load both the 2016 and 2017 sheets by name\n",
    "all_survey_data = pd.read_excel(\"fcc-new-coder-survey.xlsx\",\n",
    "                                sheet_name= ['2016', '2017'])\n",
    "\n",
    "# View the data type of all_survey_data\n",
    "print(type(all_survey_data))"
   ]
  },
  {
   "cell_type": "markdown",
   "metadata": {},
   "source": [
    "- Load the 2016 sheet by its position (0) and 2017 by name. Note the sheet names in the result."
   ]
  },
  {
   "cell_type": "code",
   "execution_count": 15,
   "metadata": {},
   "outputs": [
    {
     "name": "stdout",
     "output_type": "stream",
     "text": [
      "dict_keys([0, '2017'])\n"
     ]
    }
   ],
   "source": [
    "# Load all sheets in the Excel file\n",
    "all_survey_data = pd.read_excel(\"fcc-new-coder-survey.xlsx\",\n",
    "                                sheet_name = [0, '2017'])\n",
    "\n",
    "# View the sheet names in all_survey_data\n",
    "print(all_survey_data.keys())"
   ]
  },
  {
   "cell_type": "markdown",
   "metadata": {},
   "source": [
    "- Load all sheets in the Excel file without listing them all."
   ]
  },
  {
   "cell_type": "code",
   "execution_count": 17,
   "metadata": {},
   "outputs": [
    {
     "name": "stdout",
     "output_type": "stream",
     "text": [
      "dict_keys(['2016', '2017'])\n"
     ]
    }
   ],
   "source": [
    "# Load all sheets in the Excel file\n",
    "all_survey_data = pd.read_excel(\"fcc-new-coder-survey.xlsx\",\n",
    "                                sheet_name = None)\n",
    "\n",
    "# View the sheet names in all_survey_data\n",
    "print(all_survey_data.keys())"
   ]
  },
  {
   "cell_type": "markdown",
   "metadata": {},
   "source": [
    "- Create an empty dataframe, all_responses.\n",
    "- Set up a for loop to iterate through the values in the responses dictionary.\n",
    "- Append each dataframe to all_responses and reassign the result to the same variable name."
   ]
  },
  {
   "cell_type": "code",
   "execution_count": 20,
   "metadata": {},
   "outputs": [],
   "source": [
    "# responses = all_survey_data\n",
    "# # Create an empty dataframe\n",
    "# all_responses = pd.DataFrame()\n",
    "\n",
    "# # Set up for loop to iterate through values in responses\n",
    "# for df in responses.values():\n",
    "#   # Print the number of rows being added\n",
    "#   print(\"Adding {} rows\".format(df.shape[0]))\n",
    "#   # Append df to all_responses, assign result\n",
    "#   all_responses = all_responses.append(df)\n",
    "\n",
    "# # Graph employment statuses in sample\n",
    "# counts = all_responses.groupby(\"EmploymentStatus\").EmploymentStatus.count()\n",
    "# counts.plot.barh()\n",
    "# plt.show()"
   ]
  },
  {
   "cell_type": "markdown",
   "metadata": {},
   "source": [
    "- Count NA values in each column of survey_data with isna() and sum(). Note which columns besides ID.x, if any, have zero NAs."
   ]
  },
  {
   "cell_type": "code",
   "execution_count": 22,
   "metadata": {},
   "outputs": [
    {
     "name": "stdout",
     "output_type": "stream",
     "text": [
      "FreeCodeCamp New Developer Survey Responses, 2016     13\n",
      "Unnamed: 1                                             7\n",
      "Unnamed: 2                                           966\n",
      "Unnamed: 3                                           965\n",
      "Unnamed: 4                                           969\n",
      "                                                    ... \n",
      "Unnamed: 93                                          681\n",
      "Unnamed: 94                                          996\n",
      "Unnamed: 95                                            9\n",
      "Unnamed: 96                                          372\n",
      "Unnamed: 97                                          741\n",
      "Length: 98, dtype: int64\n"
     ]
    }
   ],
   "source": [
    "# Load the data\n",
    "survey_data = pd.read_excel(\"fcc-new-coder-survey.xlsx\")\n",
    "\n",
    "# Count NA values in each column\n",
    "print(survey_data.isna().sum())"
   ]
  },
  {
   "cell_type": "markdown",
   "metadata": {},
   "source": [
    "- Set read_excel()'s dtype argument to load the HasDebt column as Boolean data.\n",
    "Supply the Boolean column name to the print statement to view financial burdens by group."
   ]
  },
  {
   "cell_type": "code",
   "execution_count": 24,
   "metadata": {},
   "outputs": [],
   "source": [
    "# # Set dtype to load appropriate column(s) as Boolean data\n",
    "# survey_data = pd.read_excel(\"fcc-new-coder-survey.xlsx\",\n",
    "#                             dtype = {\"HasDebt\":bool})\n",
    "\n",
    "# # View financial burdens by Boolean group\n",
    "# print(survey_data.groupby(\"HasDebt\").sum())"
   ]
  },
  {
   "cell_type": "markdown",
   "metadata": {},
   "source": [
    "- Load the Excel file, specifying \"Yes\" as a true value and \"No\" as a false value."
   ]
  },
  {
   "cell_type": "code",
   "execution_count": 26,
   "metadata": {},
   "outputs": [],
   "source": [
    "# # Load file with Yes as a True value and No as a False value\n",
    "# survey_subset = pd.read_excel(\"fcc_survey_yn_data.xlsx\",\n",
    "#                               dtype={\"HasDebt\": bool,\n",
    "#                               \"AttendedBootCampYesNo\": bool},\n",
    "#                               true_values=[\"Yes\" ],\n",
    "#                               false_values=[\"No\"])\n",
    "\n",
    "# # View the data\n",
    "# print(survey_subset.head())"
   ]
  },
  {
   "cell_type": "markdown",
   "metadata": {},
   "source": [
    "- Load fcc_survey.xlsx, making sure that the Part1StartTime column is parsed as datetime data.\n",
    "- View the first few values of the survey_data.Part1StartTime to make sure it contains datetimes."
   ]
  },
  {
   "cell_type": "code",
   "execution_count": 28,
   "metadata": {},
   "outputs": [],
   "source": [
    "# # Load file, with Part1StartTime parsed as datetime data\n",
    "# survey_data = pd.read_excel(\"fcc-new-coder-survey.xlsx\",\n",
    "#                             parse_dates = [\"Part1StartTime\"])\n",
    "\n",
    "# # Print first few values of Part1StartTime\n",
    "# print(survey_data.Part1StartTime.head())"
   ]
  },
  {
   "cell_type": "markdown",
   "metadata": {},
   "source": [
    "- Create a dictionary, datetime_cols indicating that the new column Part2Start should consist of Part2StartDate and Part2StartTime.\n",
    "- Load the survey response file, supplying the dictionary to the parse_dates argument to create a new Part2Start column.\n",
    "- View summary statistics about the new Part2Start column with the describe() method."
   ]
  },
  {
   "cell_type": "code",
   "execution_count": 29,
   "metadata": {},
   "outputs": [],
   "source": [
    "# # Create dict of columns to combine into new datetime column\n",
    "# datetime_cols = {\"Part2Start\": [\"Part2StartDate\" , \"Part2StartTime\"]}\n",
    "\n",
    "\n",
    "# # Load file, supplying the dict to parse_dates\n",
    "# survey_data = pd.read_excel(\"fcc_survey_dts.xlsx\",\n",
    "#                             parse_dates = datetime_cols)\n",
    "\n",
    "# # View summary statistics about Part2Start\n",
    "# print(survey_data.Part2Start.describe())"
   ]
  },
  {
   "cell_type": "markdown",
   "metadata": {},
   "source": [
    "- Parse Part2EndTime using pd.to_datetime(), the format keyword argument, and the format string you just identified. Assign the result back to the Part2EndTime column.\n",
    "- Print the head of Part2EndTime to confirm the column now contains datetime values."
   ]
  },
  {
   "cell_type": "code",
   "execution_count": 32,
   "metadata": {},
   "outputs": [],
   "source": [
    "# # Parse datetimes and assign result back to Part2EndTime\n",
    "# survey_data[\"Part2EndTime\"] = pd.to_datetime(survey_data[\"Part2EndTime\"], \n",
    "#                                              format=\"%m%d%Y %H:%M:%S\")\n",
    "\n",
    "# # Print first few values of Part2EndTime\n",
    "# print(survey_data[\"Part2EndTime\"].head())"
   ]
  }
 ],
 "metadata": {
  "interpreter": {
   "hash": "3fef59229a6e1ff5434759995be53a28a25493efd6d26eb6c004eefe62e31083"
  },
  "kernelspec": {
   "display_name": "Python 3.8.11 ('env_py')",
   "language": "python",
   "name": "python3"
  },
  "language_info": {
   "codemirror_mode": {
    "name": "ipython",
    "version": 3
   },
   "file_extension": ".py",
   "mimetype": "text/x-python",
   "name": "python",
   "nbconvert_exporter": "python",
   "pygments_lexer": "ipython3",
   "version": "3.8.11"
  },
  "orig_nbformat": 4
 },
 "nbformat": 4,
 "nbformat_minor": 2
}
