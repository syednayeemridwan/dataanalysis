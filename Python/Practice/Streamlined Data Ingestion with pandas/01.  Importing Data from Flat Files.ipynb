{
 "cells": [
  {
   "cell_type": "markdown",
   "metadata": {},
   "source": [
    "- Import the pandas library as pd.\n",
    "- Use read_csv() to load vt_tax_data_2016.csv and assign it to the variable data.\n",
    "- View the first few lines of the dataframe with the head() method. This code has been written for you."
   ]
  },
  {
   "cell_type": "code",
   "execution_count": 1,
   "metadata": {},
   "outputs": [
    {
     "name": "stdout",
     "output_type": "stream",
     "text": [
      "   STATEFIPS STATE  zipcode  agi_stub      N1  mars1  MARS2  MARS4   PREP  \\\n",
      "0         50    VT        0         1  111580  85090  14170  10740  45360   \n",
      "1         50    VT        0         2   82760  51960  18820  11310  35600   \n",
      "2         50    VT        0         3   46270  19540  22650   3620  24140   \n",
      "3         50    VT        0         4   30070   5830  22190    960  16060   \n",
      "4         50    VT        0         5   39530   3900  33800    590  22500   \n",
      "\n",
      "       N2  ...  N10300  A10300  N85530  A85530  N85300  A85300  N11901  \\\n",
      "0  130630  ...   53660   50699       0       0       0       0   10820   \n",
      "1  132950  ...   74340  221146       0       0       0       0   12820   \n",
      "2   91870  ...   44860  266097       0       0       0       0   10810   \n",
      "3   71610  ...   29580  264678       0       0       0       0    7320   \n",
      "4  103710  ...   39170  731963      40      24       0       0   12500   \n",
      "\n",
      "   A11901  N11902  A11902  \n",
      "0    9734   88260  138337  \n",
      "1   20029   68760  151729  \n",
      "2   24499   34600   90583  \n",
      "3   21573   21300   67045  \n",
      "4   67761   23320  103034  \n",
      "\n",
      "[5 rows x 147 columns]\n"
     ]
    }
   ],
   "source": [
    "# Import pandas as pd\n",
    "import pandas as pd\n",
    "\n",
    "# Read the CSV and assign it to the variable data\n",
    "data = pd.read_csv(\"vt_tax_data_2016.csv\")\n",
    "\n",
    "# View the first few lines of data\n",
    "print(data.head())"
   ]
  },
  {
   "cell_type": "markdown",
   "metadata": {},
   "source": [
    "- Import pandas with the alias pd.\n",
    "- Load vt_tax_data_2016.tsv, making sure to set the correct delimiter with the sep keyword argument."
   ]
  },
  {
   "cell_type": "code",
   "execution_count": 4,
   "metadata": {},
   "outputs": [
    {
     "data": {
      "image/png": "[encoded data removed]",
      "text/plain": [
       "<Figure size 432x288 with 1 Axes>"
      ]
     },
     "metadata": {
      "needs_background": "light"
     },
     "output_type": "display_data"
    }
   ],
   "source": [
    "# Import pandas with the alias pd\n",
    "import pandas as pd\n",
    "import matplotlib.pyplot as plt\n",
    "\n",
    "# Load TSV using the sep keyword argument to set delimiter\n",
    "# data = pd.read_csv(\"vt_tax_data_2016.tsv\", sep = \"\\t\")\n",
    "\n",
    "# Plot the total number of tax returns by income group\n",
    "counts = data.groupby(\"agi_stub\").N1.sum()\n",
    "counts.plot.bar()\n",
    "plt.show()"
   ]
  },
  {
   "cell_type": "markdown",
   "metadata": {},
   "source": [
    "- Create a list of columns to use: zipcode, agi_stub (income group), mars1 (number of single households), MARS2 (number of households filing as married), and NUMDEP (number of dependents).\n",
    "- Create a dataframe from vt_tax_data_2016.csv that uses only the selected columns."
   ]
  },
  {
   "cell_type": "code",
   "execution_count": 8,
   "metadata": {},
   "outputs": [
    {
     "name": "stdout",
     "output_type": "stream",
     "text": [
      "          zipcode   mars1  MARS2  NUMDEP\n",
      "agi_stub                                \n",
      "1         1439444  170320  28480   52490\n",
      "2         1439444  104000  37690   64660\n",
      "3         1439444   39160  45390   47330\n",
      "4         1439444   11670  44410   37760\n",
      "5         1439444    7820  67750   60730\n",
      "6         1439444    1210  16340   16300\n"
     ]
    }
   ],
   "source": [
    "# Create list of columns to use\n",
    "cols = ['zipcode', 'agi_stub' , 'mars1' , 'MARS2' , 'NUMDEP']\n",
    "\n",
    "# Create dataframe from csv using only selected columns\n",
    "data = pd.read_csv(\"vt_tax_data_2016.csv\", usecols = cols)\n",
    "\n",
    "# View counts of dependents and tax returns by income level\n",
    "print(data.groupby(\"agi_stub\").sum())"
   ]
  },
  {
   "cell_type": "markdown",
   "metadata": {},
   "source": [
    "- Use nrows and skiprows to make a dataframe, vt_data_next500, with the next 500 rows.\n",
    "- Set the header argument so that pandas knows there is no header row.\n",
    "- Name the columns in vt_data_next500 by supplying a list of vt_data_first500's columns to the names argument."
   ]
  },
  {
   "cell_type": "code",
   "execution_count": 10,
   "metadata": {},
   "outputs": [
    {
     "name": "stdout",
     "output_type": "stream",
     "text": [
      "   zipcode  agi_stub  mars1  MARS2  NUMDEP\n",
      "0        0         1  85090  14170   26200\n",
      "1        0         2  51960  18820   32310\n",
      "2        0         3  19540  22650   23610\n",
      "3        0         4   5830  22190   18860\n",
      "4        0         5   3900  33800   30330\n",
      "                                                                                                                                                                                                                                                                                                                                                                                                                                                   zipcode  \\\n",
      "50 VT 5356 2 180 120 40 0 90 250 30 0 0 0 0 0 40 40 6223  180 6409  150 4710 40 16 30 102 30 68  0  0  30 353 40 120 50 492  0  0    0 40 107 40 173 30 286  60 186 0 0 0 0 30 103 30 119 40 45 0 0 0 0 40 657  1596  50 330 50 62  0 0 60 223 0 0 40 229  40 260 0 0 0 0 0 0 0 0 50 45  30 181 0 0 170 3557  170 454  0 0 30 34 50 28 0  0 0 0 0 0 40 8 0  0  0 0 40 90 40 134 40 173 20 13 170 641  0 0 0 0 0 0 0 0 0 0 160 426  170 497  0 0 0        0   \n",
      "           3 80  50  40 0 40 150 30 0 0 0 0 0 0  30 4814  80  4892  60  3220 20 17 20 95  40 172 30 23 30 359 0  0   0  0    30 1011 0 30 84  20 354 0  0    30 78  0 0 0 0 0  0   0  0   20 26 0 0 0 0 40 655  2206  0  0   30 84  0 0 30 153 0 0 40 242  30 162 0 0 0 0 0 0 0 0 30 63  0  0   0 0 80  3122  80  452  0 0 0  0  20 31 0  0 0 0 0 0 0  0 50 56 0 0 0  0  0  0   0  0   0  0  80  562  0 0 0 0 0 0 0 0 0 0 70  422  80  460  0 0 0        0   \n",
      "           4 50  0   40 0 40 110 30 0 0 0 0 0 0  30 4501  50  4610  40  2530 30 42 20 152 0  0   0  0  0  0   20 256 30 1050 0  0    0 0  0   20 443 30 1045 20 109 0 0 0 0 0  0   0  0   0  0  0 0 0 0 30 656  2957  20 144 30 113 0 0 30 147 0 0 30 269  20 151 0 0 0 0 0 0 0 0 30 63  0  0   0 0 50  3170  50  466  0 0 0  0  30 47 40 9 0 0 0 0 0  0 0  0  0 0 20 81 0  0   0  0   0  0  50  508  0 0 0 0 0 0 0 0 0 0 50  419  50  471  0 0 0        0   \n",
      "           5 80  20  50 0 60 170 30 0 0 0 0 0 0  40 14108 80  14361 60  7365 50 38 40 800 40 682 20 30 20 81  40 732 0  0    30 1359 0 0  0   30 665 0  0    30 253 0 0 0 0 0  0   0  0   0  0  0 0 0 0 70 2545 12932 0  0   70 715 0 0 60 588 0 0 70 1312 40 371 0 0 0 0 0 0 0 0 60 214 30 246 0 0 80  10833 70  2206 0 0 0  0  30 31 0  0 0 0 0 0 0  0 0  0  0 0 0  0  0  0   0  0   0  0  80  2073 0 0 0 0 0 0 0 0 0 0 70  2086 80  2229 0 0 0        0   \n",
      "           6 0   0   0  0 0  0   0  0 0 0 0 0 0  0  0     0   0     0   0    0  0  0  0   0  0   0  0  0  0   0  0   0  0    0  0    0 0  0   0  0   0  0    0  0   0 0 0 0 0  0   0  0   0  0  0 0 0 0 0  0    0     0  0   0  0   0 0 0  0   0 0 0  0    0  0   0 0 0 0 0 0 0 0 0  0   0  0   0 0 0   0     0   0    0 0 0  0  0  0  0  0 0 0 0 0 0  0 0  0  0 0 0  0  0  0   0  0   0  0  0   0    0 0 0 0 0 0 0 0 0 0 0   0    0   0    0 0 0        0   \n",
      "\n",
      "                                                                                                                                                                                                                                                                                                                                                                                                                                                   agi_stub  \\\n",
      "50 VT 5356 2 180 120 40 0 90 250 30 0 0 0 0 0 40 40 6223  180 6409  150 4710 40 16 30 102 30 68  0  0  30 353 40 120 50 492  0  0    0 40 107 40 173 30 286  60 186 0 0 0 0 30 103 30 119 40 45 0 0 0 0 40 657  1596  50 330 50 62  0 0 60 223 0 0 40 229  40 260 0 0 0 0 0 0 0 0 50 45  30 181 0 0 170 3557  170 454  0 0 30 34 50 28 0  0 0 0 0 0 40 8 0  0  0 0 40 90 40 134 40 173 20 13 170 641  0 0 0 0 0 0 0 0 0 0 160 426  170 497  0 0 0        50   \n",
      "           3 80  50  40 0 40 150 30 0 0 0 0 0 0  30 4814  80  4892  60  3220 20 17 20 95  40 172 30 23 30 359 0  0   0  0    30 1011 0 30 84  20 354 0  0    30 78  0 0 0 0 0  0   0  0   20 26 0 0 0 0 40 655  2206  0  0   30 84  0 0 30 153 0 0 40 242  30 162 0 0 0 0 0 0 0 0 30 63  0  0   0 0 80  3122  80  452  0 0 0  0  20 31 0  0 0 0 0 0 0  0 50 56 0 0 0  0  0  0   0  0   0  0  80  562  0 0 0 0 0 0 0 0 0 0 70  422  80  460  0 0 0        40   \n",
      "           4 50  0   40 0 40 110 30 0 0 0 0 0 0  30 4501  50  4610  40  2530 30 42 20 152 0  0   0  0  0  0   20 256 30 1050 0  0    0 0  0   20 443 30 1045 20 109 0 0 0 0 0  0   0  0   0  0  0 0 0 0 30 656  2957  20 144 30 113 0 0 30 147 0 0 30 269  20 151 0 0 0 0 0 0 0 0 30 63  0  0   0 0 50  3170  50  466  0 0 0  0  30 47 40 9 0 0 0 0 0  0 0  0  0 0 20 81 0  0   0  0   0  0  50  508  0 0 0 0 0 0 0 0 0 0 50  419  50  471  0 0 0         0   \n",
      "           5 80  20  50 0 60 170 30 0 0 0 0 0 0  40 14108 80  14361 60  7365 50 38 40 800 40 682 20 30 20 81  40 732 0  0    30 1359 0 0  0   30 665 0  0    30 253 0 0 0 0 0  0   0  0   0  0  0 0 0 0 70 2545 12932 0  0   70 715 0 0 60 588 0 0 70 1312 40 371 0 0 0 0 0 0 0 0 60 214 30 246 0 0 80  10833 70  2206 0 0 0  0  30 31 0  0 0 0 0 0 0  0 0  0  0 0 0  0  0  0   0  0   0  0  80  2073 0 0 0 0 0 0 0 0 0 0 70  2086 80  2229 0 0 0        30   \n",
      "           6 0   0   0  0 0  0   0  0 0 0 0 0 0  0  0     0   0     0   0    0  0  0  0   0  0   0  0  0  0   0  0   0  0    0  0    0 0  0   0  0   0  0    0  0   0 0 0 0 0  0   0  0   0  0  0 0 0 0 0  0    0     0  0   0  0   0 0 0  0   0 0 0  0    0  0   0 0 0 0 0 0 0 0 0  0   0  0   0 0 0   0     0   0    0 0 0  0  0  0  0  0 0 0 0 0 0  0 0  0  0 0 0  0  0  0   0  0   0  0  0   0    0 0 0 0 0 0 0 0 0 0 0   0    0   0    0 0 0         0   \n",
      "\n",
      "                                                                                                                                                                                                                                                                                                                                                                                                                                                   mars1  \\\n",
      "50 VT 5356 2 180 120 40 0 90 250 30 0 0 0 0 0 40 40 6223  180 6409  150 4710 40 16 30 102 30 68  0  0  30 353 40 120 50 492  0  0    0 40 107 40 173 30 286  60 186 0 0 0 0 30 103 30 119 40 45 0 0 0 0 40 657  1596  50 330 50 62  0 0 60 223 0 0 40 229  40 260 0 0 0 0 0 0 0 0 50 45  30 181 0 0 170 3557  170 454  0 0 30 34 50 28 0  0 0 0 0 0 40 8 0  0  0 0 40 90 40 134 40 173 20 13 170 641  0 0 0 0 0 0 0 0 0 0 160 426  170 497  0 0 0     76   \n",
      "           3 80  50  40 0 40 150 30 0 0 0 0 0 0  30 4814  80  4892  60  3220 20 17 20 95  40 172 30 23 30 359 0  0   0  0    30 1011 0 30 84  20 354 0  0    30 78  0 0 0 0 0  0   0  0   20 26 0 0 0 0 40 655  2206  0  0   30 84  0 0 30 153 0 0 40 242  30 162 0 0 0 0 0 0 0 0 30 63  0  0   0 0 80  3122  80  452  0 0 0  0  20 31 0  0 0 0 0 0 0  0 50 56 0 0 0  0  0  0   0  0   0  0  80  562  0 0 0 0 0 0 0 0 0 0 70  422  80  460  0 0 0    142   \n",
      "           4 50  0   40 0 40 110 30 0 0 0 0 0 0  30 4501  50  4610  40  2530 30 42 20 152 0  0   0  0  0  0   20 256 30 1050 0  0    0 0  0   20 443 30 1045 20 109 0 0 0 0 0  0   0  0   0  0  0 0 0 0 30 656  2957  20 144 30 113 0 0 30 147 0 0 30 269  20 151 0 0 0 0 0 0 0 0 30 63  0  0   0 0 50  3170  50  466  0 0 0  0  30 47 40 9 0 0 0 0 0  0 0  0  0 0 20 81 0  0   0  0   0  0  50  508  0 0 0 0 0 0 0 0 0 0 50  419  50  471  0 0 0      0   \n",
      "           5 80  20  50 0 60 170 30 0 0 0 0 0 0  40 14108 80  14361 60  7365 50 38 40 800 40 682 20 30 20 81  40 732 0  0    30 1359 0 0  0   30 665 0  0    30 253 0 0 0 0 0  0   0  0   0  0  0 0 0 0 70 2545 12932 0  0   70 715 0 0 60 588 0 0 70 1312 40 371 0 0 0 0 0 0 0 0 60 214 30 246 0 0 80  10833 70  2206 0 0 0  0  30 31 0  0 0 0 0 0 0  0 0  0  0 0 0  0  0  0   0  0   0  0  80  2073 0 0 0 0 0 0 0 0 0 0 70  2086 80  2229 0 0 0    531   \n",
      "           6 0   0   0  0 0  0   0  0 0 0 0 0 0  0  0     0   0     0   0    0  0  0  0   0  0   0  0  0  0   0  0   0  0    0  0    0 0  0   0  0   0  0    0  0   0 0 0 0 0  0   0  0   0  0  0 0 0 0 0  0    0     0  0   0  0   0 0 0  0   0 0 0  0    0  0   0 0 0 0 0 0 0 0 0  0   0  0   0 0 0   0     0   0    0 0 0  0  0  0  0  0 0 0 0 0 0  0 0  0  0 0 0  0  0  0   0  0   0  0  0   0    0 0 0 0 0 0 0 0 0 0 0   0    0   0    0 0 0      0   \n",
      "\n",
      "                                                                                                                                                                                                                                                                                                                                                                                                                                                   MARS2  \\\n",
      "50 VT 5356 2 180 120 40 0 90 250 30 0 0 0 0 0 40 40 6223  180 6409  150 4710 40 16 30 102 30 68  0  0  30 353 40 120 50 492  0  0    0 40 107 40 173 30 286  60 186 0 0 0 0 30 103 30 119 40 45 0 0 0 0 40 657  1596  50 330 50 62  0 0 60 223 0 0 40 229  40 260 0 0 0 0 0 0 0 0 50 45  30 181 0 0 170 3557  170 454  0 0 30 34 50 28 0  0 0 0 0 0 40 8 0  0  0 0 40 90 40 134 40 173 20 13 170 641  0 0 0 0 0 0 0 0 0 0 160 426  170 497  0 0 0    130   \n",
      "           3 80  50  40 0 40 150 30 0 0 0 0 0 0  30 4814  80  4892  60  3220 20 17 20 95  40 172 30 23 30 359 0  0   0  0    30 1011 0 30 84  20 354 0  0    30 78  0 0 0 0 0  0   0  0   20 26 0 0 0 0 40 655  2206  0  0   30 84  0 0 30 153 0 0 40 242  30 162 0 0 0 0 0 0 0 0 30 63  0  0   0 0 80  3122  80  452  0 0 0  0  20 31 0  0 0 0 0 0 0  0 50 56 0 0 0  0  0  0   0  0   0  0  80  562  0 0 0 0 0 0 0 0 0 0 70  422  80  460  0 0 0     50   \n",
      "           4 50  0   40 0 40 110 30 0 0 0 0 0 0  30 4501  50  4610  40  2530 30 42 20 152 0  0   0  0  0  0   20 256 30 1050 0  0    0 0  0   20 443 30 1045 20 109 0 0 0 0 0  0   0  0   0  0  0 0 0 0 30 656  2957  20 144 30 113 0 0 30 147 0 0 30 269  20 151 0 0 0 0 0 0 0 0 30 63  0  0   0 0 50  3170  50  466  0 0 0  0  30 47 40 9 0 0 0 0 0  0 0  0  0 0 20 81 0  0   0  0   0  0  50  508  0 0 0 0 0 0 0 0 0 0 50  419  50  471  0 0 0     30   \n",
      "           5 80  20  50 0 60 170 30 0 0 0 0 0 0  40 14108 80  14361 60  7365 50 38 40 800 40 682 20 30 20 81  40 732 0  0    30 1359 0 0  0   30 665 0  0    30 253 0 0 0 0 0  0   0  0   0  0  0 0 0 0 70 2545 12932 0  0   70 715 0 0 60 588 0 0 70 1312 40 371 0 0 0 0 0 0 0 0 60 214 30 246 0 0 80  10833 70  2206 0 0 0  0  30 31 0  0 0 0 0 0 0  0 0  0  0 0 0  0  0  0   0  0   0  0  80  2073 0 0 0 0 0 0 0 0 0 0 70  2086 80  2229 0 0 0     30   \n",
      "           6 0   0   0  0 0  0   0  0 0 0 0 0 0  0  0     0   0     0   0    0  0  0  0   0  0   0  0  0  0   0  0   0  0    0  0    0 0  0   0  0   0  0    0  0   0 0 0 0 0  0   0  0   0  0  0 0 0 0 0  0    0     0  0   0  0   0 0 0  0   0 0 0  0    0  0   0 0 0 0 0 0 0 0 0  0   0  0   0 0 0   0     0   0    0 0 0  0  0  0  0  0 0 0 0 0 0  0 0  0  0 0 0  0  0  0   0  0   0  0  0   0    0 0 0 0 0 0 0 0 0 0 0   0    0   0    0 0 0      0   \n",
      "\n",
      "                                                                                                                                                                                                                                                                                                                                                                                                                                                   NUMDEP  \n",
      "50 VT 5356 2 180 120 40 0 90 250 30 0 0 0 0 0 40 40 6223  180 6409  150 4710 40 16 30 102 30 68  0  0  30 353 40 120 50 492  0  0    0 40 107 40 173 30 286  60 186 0 0 0 0 30 103 30 119 40 45 0 0 0 0 40 657  1596  50 330 50 62  0 0 60 223 0 0 40 229  40 260 0 0 0 0 0 0 0 0 50 45  30 181 0 0 170 3557  170 454  0 0 30 34 50 28 0  0 0 0 0 0 40 8 0  0  0 0 40 90 40 134 40 173 20 13 170 641  0 0 0 0 0 0 0 0 0 0 160 426  170 497  0 0 0     212  \n",
      "           3 80  50  40 0 40 150 30 0 0 0 0 0 0  30 4814  80  4892  60  3220 20 17 20 95  40 172 30 23 30 359 0  0   0  0    30 1011 0 30 84  20 354 0  0    30 78  0 0 0 0 0  0   0  0   20 26 0 0 0 0 40 655  2206  0  0   30 84  0 0 30 153 0 0 40 242  30 162 0 0 0 0 0 0 0 0 30 63  0  0   0 0 80  3122  80  452  0 0 0  0  20 31 0  0 0 0 0 0 0  0 50 56 0 0 0  0  0  0   0  0   0  0  80  562  0 0 0 0 0 0 0 0 0 0 70  422  80  460  0 0 0     148  \n",
      "           4 50  0   40 0 40 110 30 0 0 0 0 0 0  30 4501  50  4610  40  2530 30 42 20 152 0  0   0  0  0  0   20 256 30 1050 0  0    0 0  0   20 443 30 1045 20 109 0 0 0 0 0  0   0  0   0  0  0 0 0 0 30 656  2957  20 144 30 113 0 0 30 147 0 0 30 269  20 151 0 0 0 0 0 0 0 0 30 63  0  0   0 0 50  3170  50  466  0 0 0  0  30 47 40 9 0 0 0 0 0  0 0  0  0 0 20 81 0  0   0  0   0  0  50  508  0 0 0 0 0 0 0 0 0 0 50  419  50  471  0 0 0      87  \n",
      "           5 80  20  50 0 60 170 30 0 0 0 0 0 0  40 14108 80  14361 60  7365 50 38 40 800 40 682 20 30 20 81  40 732 0  0    30 1359 0 0  0   30 665 0  0    30 253 0 0 0 0 0  0   0  0   0  0  0 0 0 0 70 2545 12932 0  0   70 715 0 0 60 588 0 0 70 1312 40 371 0 0 0 0 0 0 0 0 60 214 30 246 0 0 80  10833 70  2206 0 0 0  0  30 31 0  0 0 0 0 0 0  0 0  0  0 0 0  0  0  0   0  0   0  0  80  2073 0 0 0 0 0 0 0 0 0 0 70  2086 80  2229 0 0 0     246  \n",
      "           6 0   0   0  0 0  0   0  0 0 0 0 0 0  0  0     0   0     0   0    0  0  0  0   0  0   0  0  0  0   0  0   0  0    0  0    0 0  0   0  0   0  0    0  0   0 0 0 0 0  0   0  0   0  0  0 0 0 0 0  0    0     0  0   0  0   0 0 0  0   0 0 0  0    0  0   0 0 0 0 0 0 0 0 0  0   0  0   0 0 0   0     0   0    0 0 0  0  0  0  0  0 0 0 0 0 0  0 0  0  0 0 0  0  0  0   0  0   0  0  0   0    0 0 0 0 0 0 0 0 0 0 0   0    0   0    0 0 0       0  \n"
     ]
    }
   ],
   "source": [
    "vt_data_first500 = data\n",
    "# Create dataframe of next 500 rows with labeled columns\n",
    "vt_data_next500 = pd.read_csv(\"vt_tax_data_2016.csv\", \n",
    "                       \t\t  nrows = 500,\n",
    "                       \t\t  skiprows = 500,\n",
    "                       \t\t  header = None,\n",
    "                       \t\t  names = vt_data_first500.columns)\n",
    "\n",
    "\n",
    "# View the Vermont dataframes to confirm they're different\n",
    "print(vt_data_first500.head())\n",
    "print(vt_data_next500.head())"
   ]
  },
  {
   "cell_type": "markdown",
   "metadata": {},
   "source": [
    "- Load vt_tax_data_2016.csv with no arguments and view the dataframe's dtypes attribute. Note the data types of zipcode and agi_stub."
   ]
  },
  {
   "cell_type": "code",
   "execution_count": 11,
   "metadata": {},
   "outputs": [
    {
     "name": "stdout",
     "output_type": "stream",
     "text": [
      "STATEFIPS     int64\n",
      "STATE        object\n",
      "zipcode       int64\n",
      "agi_stub      int64\n",
      "N1            int64\n",
      "              ...  \n",
      "A85300        int64\n",
      "N11901        int64\n",
      "A11901        int64\n",
      "N11902        int64\n",
      "A11902        int64\n",
      "Length: 147, dtype: object\n"
     ]
    }
   ],
   "source": [
    "# Load csv with no additional arguments\n",
    "data = pd.read_csv(\"vt_tax_data_2016.csv\")\n",
    "\n",
    "# Print the data types\n",
    "print(data.dtypes)"
   ]
  },
  {
   "cell_type": "markdown",
   "metadata": {},
   "source": [
    "- Create a dictionary, data_types, specifying that agi_stub is \"category\" data and zipcode is string data.\n",
    "- Reload the CSV with the dtype argument and the dictionary to set the correct column data types.\n",
    "- View the dataframe's dtypes attribute."
   ]
  },
  {
   "cell_type": "code",
   "execution_count": 15,
   "metadata": {},
   "outputs": [
    {
     "name": "stdout",
     "output_type": "stream",
     "text": [
      "STATEFIPS       int64\n",
      "STATE          object\n",
      "zipcode        object\n",
      "agi_stub     category\n",
      "N1              int64\n",
      "dtype: object\n"
     ]
    }
   ],
   "source": [
    "# Create dict specifying data types for agi_stub and zipcode\n",
    "data_types = {\"agi_stub\" : \"category\",\n",
    "\t\t\t  \"zipcode\" : str}\n",
    "\n",
    "# Load csv using dtype to set correct data types\n",
    "data = pd.read_csv(\"vt_tax_data_2016.csv\", dtype = data_types)\n",
    "\n",
    "# Print data types of resulting frame\n",
    "print(data.dtypes.head())"
   ]
  },
  {
   "cell_type": "markdown",
   "metadata": {},
   "source": [
    "- Create a dictionary, null_values, specifying that 0s in the zipcode column should be considered NA values.\n",
    "- Load vt_tax_data_2016.csv, using the na_values argument and the dictionary to make sure invalid ZIP codes are treated as missing."
   ]
  },
  {
   "cell_type": "code",
   "execution_count": 16,
   "metadata": {},
   "outputs": [
    {
     "name": "stdout",
     "output_type": "stream",
     "text": [
      "   STATEFIPS STATE  zipcode  agi_stub      N1  mars1  MARS2  MARS4   PREP  \\\n",
      "0         50    VT      NaN         1  111580  85090  14170  10740  45360   \n",
      "1         50    VT      NaN         2   82760  51960  18820  11310  35600   \n",
      "2         50    VT      NaN         3   46270  19540  22650   3620  24140   \n",
      "3         50    VT      NaN         4   30070   5830  22190    960  16060   \n",
      "4         50    VT      NaN         5   39530   3900  33800    590  22500   \n",
      "5         50    VT      NaN         6    9620    600   8150      0   7040   \n",
      "\n",
      "       N2  ...  N10300  A10300  N85530  A85530  N85300  A85300  N11901  \\\n",
      "0  130630  ...   53660   50699       0       0       0       0   10820   \n",
      "1  132950  ...   74340  221146       0       0       0       0   12820   \n",
      "2   91870  ...   44860  266097       0       0       0       0   10810   \n",
      "3   71610  ...   29580  264678       0       0       0       0    7320   \n",
      "4  103710  ...   39170  731963      40      24       0       0   12500   \n",
      "5   26430  ...    9600  894432    3350    4939    4990   20428    3900   \n",
      "\n",
      "   A11901  N11902  A11902  \n",
      "0    9734   88260  138337  \n",
      "1   20029   68760  151729  \n",
      "2   24499   34600   90583  \n",
      "3   21573   21300   67045  \n",
      "4   67761   23320  103034  \n",
      "5   93123    2870   39425  \n",
      "\n",
      "[6 rows x 147 columns]\n"
     ]
    }
   ],
   "source": [
    "# Create dict specifying that 0s in zipcode are NA values\n",
    "null_values = {\"zipcode\" : 0}\n",
    "\n",
    "# Load csv using na_values keyword argument\n",
    "data = pd.read_csv(\"vt_tax_data_2016.csv\", \n",
    "                   na_values = null_values)\n",
    "\n",
    "# View rows with NA ZIP codes\n",
    "print(data[data.zipcode.isna()])"
   ]
  },
  {
   "cell_type": "markdown",
   "metadata": {},
   "source": [
    "- Try to import the file vt_tax_data_2016_corrupt.csv without any keyword arguments."
   ]
  },
  {
   "cell_type": "code",
   "execution_count": 18,
   "metadata": {},
   "outputs": [],
   "source": [
    "# try:\n",
    "#   # Import the CSV without any keyword arguments\n",
    "#   data = pd.read_csv(\"vt_tax_data_2016_corrupt.csv\")\n",
    "  \n",
    "#   # View first 5 records\n",
    "#   print(data.head())\n",
    "  \n",
    "# except pd.errors.ParserError:\n",
    "#     print(\"Your data contained rows that could not be parsed.\")"
   ]
  },
  {
   "cell_type": "markdown",
   "metadata": {},
   "source": [
    "- Import vt_tax_data_2016_corrupt.csv with the error_bad_lines parameter set to skip bad records."
   ]
  },
  {
   "cell_type": "code",
   "execution_count": 19,
   "metadata": {},
   "outputs": [],
   "source": [
    "# try:\n",
    "#   # Import CSV with error_bad_lines set to skip bad records\n",
    "#   data = pd.read_csv(\"vt_tax_data_2016_corrupt.csv\", \n",
    "#                      error_bad_lines = False,\n",
    "#                      warn_bad_lines=False)\n",
    "  \n",
    "#   # View first 5 records\n",
    "#   print(data.head())\n",
    "  \n",
    "# except pd.errors.ParserError:\n",
    "#     print(\"Your data contained rows that could not be parsed.\")"
   ]
  },
  {
   "cell_type": "markdown",
   "metadata": {},
   "source": [
    "- Update the import with the warn_bad_lines parameter set to issue a warning whenever a bad record is skipped."
   ]
  },
  {
   "cell_type": "code",
   "execution_count": 20,
   "metadata": {},
   "outputs": [],
   "source": [
    "# try:\n",
    "#   # Set warn_bad_lines to issue warnings about bad records\n",
    "#   data = pd.read_csv(\"vt_tax_data_2016_corrupt.csv\", \n",
    "#                      error_bad_lines=False, \n",
    "#                      warn_bad_lines=True)\n",
    "  \n",
    "#   # View first 5 records\n",
    "#   print(data.head())\n",
    "  \n",
    "# except pd.errors.ParserError:\n",
    "#     print(\"Your data contained rows that could not be parsed.\")"
   ]
  }
 ],
 "metadata": {
  "interpreter": {
   "hash": "3fef59229a6e1ff5434759995be53a28a25493efd6d26eb6c004eefe62e31083"
  },
  "kernelspec": {
   "display_name": "Python 3.8.11 ('env_py')",
   "language": "python",
   "name": "python3"
  },
  "language_info": {
   "codemirror_mode": {
    "name": "ipython",
    "version": 3
   },
   "file_extension": ".py",
   "mimetype": "text/x-python",
   "name": "python",
   "nbconvert_exporter": "python",
   "pygments_lexer": "ipython3",
   "version": "3.8.11"
  },
  "orig_nbformat": 4
 },
 "nbformat": 4,
 "nbformat_minor": 2
}
