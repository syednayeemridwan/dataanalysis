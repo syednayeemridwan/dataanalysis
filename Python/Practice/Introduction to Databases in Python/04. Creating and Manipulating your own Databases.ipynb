{
 "cells": [
  {
   "cell_type": "markdown",
   "metadata": {},
   "source": [
    "- Import Table, Column, String, Integer, Float, Boolean from sqlalchemy.\n",
    "- Build a new table called data with columns 'name' (String(255)), 'count' (Integer()), 'amount'(Float()), and 'valid' (Boolean()) columns. The second argument of Table() needs to be metadata, which has already been initialized.\n",
    "- Create the table in the database by passing engine to metadata.create_all()."
   ]
  },
  {
   "cell_type": "code",
   "execution_count": 4,
   "metadata": {},
   "outputs": [
    {
     "name": "stdout",
     "output_type": "stream",
     "text": [
      "Table('data', MetaData(), Column('name', String(length=255), table=<data>), Column('count', Integer(), table=<data>), Column('amount', Float(), table=<data>), Column('valid', Boolean(), table=<data>), schema=None)\n"
     ]
    }
   ],
   "source": [
    "# Import Table, Column, String, Integer, Float, Boolean from sqlalchemy\n",
    "from sqlalchemy import Table, Column, String, Integer, Float, Boolean, MetaData, create_engine\n",
    "metadata = MetaData()\n",
    "engine = create_engine(\"sqlite:///new.sqlite\")\n",
    "\n",
    "# Define a new table with a name, count, amount, and valid column: data\n",
    "data = Table('data', metadata,\n",
    "             Column('name', String(255)),\n",
    "             Column('count', Integer()),\n",
    "             Column('amount', Float()),\n",
    "             Column('valid', Boolean())\n",
    ")\n",
    "\n",
    "# Use the metadata to create the table\n",
    "metadata.create_all(engine)\n",
    "\n",
    "# Print table details\n",
    "print(repr(data))\n"
   ]
  },
  {
   "cell_type": "markdown",
   "metadata": {},
   "source": [
    "- Table, Column, String, Integer, Float, Boolean are already imported from sqlalchemy.\n",
    "- Build a new table called data with a unique name (String), count (Integer) defaulted to 1, amount (Float), and valid (Boolean) defaulted to False.\n",
    "- Hit 'Submit Answer' to create the table in the database and to print the table details for data"
   ]
  },
  {
   "cell_type": "code",
   "execution_count": 9,
   "metadata": {},
   "outputs": [
    {
     "name": "stdout",
     "output_type": "stream",
     "text": [
      "Table('data', MetaData(), Column('name', String(length=255), table=<data>), Column('count', Integer(), table=<data>), Column('amount', Float(), table=<data>), Column('valid', Boolean(), table=<data>), schema=None)\n"
     ]
    }
   ],
   "source": [
    "# Import Table, Column, String, Integer, Float, Boolean from sqlalchemy\n",
    "from sqlalchemy import Table, Column, String, Integer, Float, Boolean\n",
    "\n",
    "# Define a new table with a name, count, amount, and valid column: data\n",
    "data = Table('data1', metadata,\n",
    "             Column('name', String(255), unique=True),\n",
    "             Column('count', Integer(), default=1),\n",
    "             Column('amount', Float()),\n",
    "             Column('valid', Boolean(), default=False)\n",
    ")\n",
    "\n",
    "# Use the metadata to create the table\n",
    "metadata.create_all(engine)\n",
    "\n",
    "# Print the table details\n",
    "print(repr(metadata.tables['data']))\n"
   ]
  },
  {
   "cell_type": "markdown",
   "metadata": {},
   "source": [
    "- Import insert and select from the sqlalchemy module.\n",
    "- Build an insert statement insert_stmt for the data table to set name to 'Anna', count to 1, amount to 1000.00, and valid to True.\n",
    "- Execute insert_stmt with the connection and store the results.\n",
    "- Print the .rowcount attribute of results to see how many records were inserted.\n",
    "- Build a select statement to query data for the record with the name of 'Anna'.\n",
    "- Hit 'Run Solution' to print the results of executing the select statement."
   ]
  },
  {
   "cell_type": "code",
   "execution_count": 11,
   "metadata": {},
   "outputs": [
    {
     "name": "stdout",
     "output_type": "stream",
     "text": [
      "1\n",
      "('Anna', 1, 1000.0, True)\n"
     ]
    }
   ],
   "source": [
    "# Create a connection on engine\n",
    "connection = engine.connect()\n",
    "\n",
    "# Import insert and select from sqlalchemy\n",
    "from sqlalchemy import insert, select\n",
    "\n",
    "# Build an insert statement to insert a record into the data table: insert_stmt\n",
    "insert_stmt = insert(data).values(name='Anna', count =1, amount = 1000.00, valid = True)\n",
    "\n",
    "# Execute the insert statement via the connection: results\n",
    "results = connection.execute(insert_stmt)\n",
    "\n",
    "# Print result rowcount\n",
    "print(results.rowcount)\n",
    "\n",
    "# Build a select statement to validate the insert: select_stmt\n",
    "select_stmt = select([data]).where(data.columns.name == 'Anna')\n",
    "\n",
    "# Print the result of executing the query.\n",
    "print(connection.execute(select_stmt).first())\n"
   ]
  },
  {
   "cell_type": "markdown",
   "metadata": {},
   "source": [
    "- Build a list of dictionaries called values_list with two dictionaries. In the first dictionary set name to 'Anna', count to 1, amount to 1000.00, and valid to True. In the second dictionary of the list, set name to 'Taylor', count to 1, amount to 750.00, and valid to False.\n",
    "- Build an insert statement for the data table for a multiple insert, save it as stmt.\n",
    "- Execute stmt with the values_list via connection and store the results. Make sure values_list is the second argument to .execute().\n",
    "- Print the rowcount of the results."
   ]
  },
  {
   "cell_type": "code",
   "execution_count": 13,
   "metadata": {},
   "outputs": [
    {
     "name": "stdout",
     "output_type": "stream",
     "text": [
      "2\n"
     ]
    }
   ],
   "source": [
    "# Build a list of dictionaries: values_list\n",
    "values_list = [\n",
    "    {'name': 'Anna2', 'count': 1, 'amount': 1000.00, 'valid': True},\n",
    "    {'name': 'Taylor', 'count': 1, 'amount': 750.00, 'valid': False}\n",
    "]\n",
    "\n",
    "# Build an insert statement for the data table: stmt\n",
    "stmt = insert(data)\n",
    "\n",
    "# Execute stmt with the values_list: results\n",
    "results = connection.execute(stmt, values_list)\n",
    "\n",
    "# Print rowcount\n",
    "print(results.rowcount)\n"
   ]
  },
  {
   "cell_type": "markdown",
   "metadata": {},
   "source": [
    "- Use pd.read_csv() to load the \"census.csv\" file into a DataFrame. Set the header parameter to None since the file doesn't have a header row.\n",
    "- Rename the columns of census_df to \"state\", \"sex\", age, \"pop2000\", and \"pop2008\" to match the columns of the \"census\" table in the database.\n",
    "- Use the .to_sql() method on census_df to append the data to the \"census\" table in the database using the connection.\n",
    "- Since \"census\" already exists in the database, you will need to specify an appropriate value for the if_exists parameter."
   ]
  },
  {
   "cell_type": "code",
   "execution_count": 14,
   "metadata": {},
   "outputs": [],
   "source": [
    "# import pandas\n",
    "import pandas as pd\n",
    "\n",
    "# read census.csv into a DataFrame : census_df\n",
    "census_df = pd.read_csv(\"census.csv\", header=None)\n",
    "\n",
    "# rename the columns of the census DataFrame\n",
    "census_df.columns = ['state', 'sex', 'age', 'pop2000', 'pop2008']\n",
    "\n",
    "# append the data from census_df to the \"census\" table via connection\n",
    "census_df.to_sql(name=\"census\", con=connection, if_exists=\"append\", index=False)"
   ]
  },
  {
   "cell_type": "markdown",
   "metadata": {},
   "source": [
    "- Build a statement to select all columns from the state_fact table where the value in the name column is 'New York'. Call it select_stmt.\n",
    "- Fetch all the results and assign them to results.\n",
    "- Print the results and the fips_state column of the first row of the results."
   ]
  },
  {
   "cell_type": "code",
   "execution_count": 15,
   "metadata": {},
   "outputs": [],
   "source": [
    "# # Build a select statement: select_stmt\n",
    "# select_stmt = select([state_fact]).where(state_fact.columns.name == 'New York')\n",
    "\n",
    "# # Execute select_stmt and fetch the results\n",
    "# results = connection.execute(select_stmt).fetchall()\n",
    "\n",
    "# # Print the results of executing the select_stmt\n",
    "# print(results)\n",
    "\n",
    "# # Print the FIPS code for the first row of the result\n",
    "# print(results[0]['fips_state'])"
   ]
  },
  {
   "cell_type": "markdown",
   "metadata": {},
   "source": [
    "- Notice that there is only one record in state_fact for the state of New York. It currently has the FIPS code of 0.\n",
    "- Build an update statement to change the fips_state column code to 36, save it as update_stmt.\n",
    "- Use a where clause to filter for states with the name of 'New York' in the state_fact table.\n",
    "- Execute update_stmt via the connection and save the output as update_results."
   ]
  },
  {
   "cell_type": "code",
   "execution_count": 16,
   "metadata": {},
   "outputs": [],
   "source": [
    "# select_stmt = select([state_fact]).where(state_fact.columns.name == 'New York')\n",
    "# results = connection.execute(select_stmt).fetchall()\n",
    "# print(results)\n",
    "# print(results[0]['fips_state'])\n",
    "\n",
    "# # Build a statement to update the fips_state to 36: update_stmt\n",
    "# update_stmt = update(state_fact).values(fips_state = 36)\n",
    "\n",
    "# # Append a where clause to limit it to records for New York state\n",
    "# update_stmt = update_stmt.where(state_fact.columns.name == 'New York')\n",
    "\n",
    "# # Execute the statement: update_results\n",
    "# update_results = connection.execute(update_stmt)"
   ]
  },
  {
   "cell_type": "markdown",
   "metadata": {},
   "source": [
    "- Now you will confirm that the record for New York was updated by selecting all the records for New York from state_fact and repeating what you did in Step 1.\n",
    "- Execute select_stmt again, fetch all the results, and assign them to new_results. Print the new_results and the fips_state column of the first row of the new_results."
   ]
  },
  {
   "cell_type": "code",
   "execution_count": 17,
   "metadata": {},
   "outputs": [],
   "source": [
    "# select_stmt = select([state_fact]).where(state_fact.columns.name == 'New York')\n",
    "# results = connection.execute(select_stmt).fetchall()\n",
    "# print(results)\n",
    "# print(results[0]['fips_state'])\n",
    "\n",
    "# update_stmt = update(state_fact).values(fips_state = 36)\n",
    "# update_stmt = update_stmt.where(state_fact.columns.name == 'New York')\n",
    "# update_results = connection.execute(update_stmt)\n",
    "\n",
    "# # Execute select_stmt again and fetch the new results\n",
    "# new_results = connection.execute(select_stmt).fetchall()\n",
    "\n",
    "# # Print the new_results\n",
    "# print(new_results)\n",
    "\n",
    "# # Print the FIPS code for the first row of the new_results\n",
    "# print(new_results[0]['fips_state'])"
   ]
  },
  {
   "cell_type": "markdown",
   "metadata": {},
   "source": [
    "- Build an update statement to update the notes column in the state_fact table to 'The Wild West'. Save it as stmt.\n",
    "- Use a where clause to filter for records that have 'West' in the census_region_name column of the state_fact table.\n",
    "- Execute stmt_west via the connection and save the output as results.\n",
    "- Hit 'Run Solution' to print rowcount of the results."
   ]
  },
  {
   "cell_type": "code",
   "execution_count": 18,
   "metadata": {},
   "outputs": [],
   "source": [
    "# # Build a statement to update the notes to 'The Wild West': stmt\n",
    "# stmt = update(state_fact).values(notes='The Wild West')\n",
    "\n",
    "# # Append a where clause to match the West census region records: stmt_west\n",
    "# stmt_west = stmt.where(state_fact.columns.census_region_name == 'West')\n",
    "\n",
    "# # Execute the statement: results\n",
    "# results = connection.execute(stmt_west)\n",
    "\n",
    "# # Print rowcount\n",
    "# print(results.rowcount)\n"
   ]
  },
  {
   "cell_type": "markdown",
   "metadata": {},
   "source": [
    "- Build a statement to select the name column from state_fact. Save the statement as fips_stmt.\n",
    "- Append a where clause to fips_stmt that matches fips_state from the state_fact table with fips_code in the flat_census table.\n",
    "- Build an update statement to set the state_name in flat_census to fips_stmt. Save the statement as update_stmt.\n",
    "- Hit 'Submit Answer' to execute update_stmt, store the results and print the rowcount of results."
   ]
  },
  {
   "cell_type": "code",
   "execution_count": 19,
   "metadata": {},
   "outputs": [],
   "source": [
    "# # Build a statement to select name from state_fact: fips_stmt\n",
    "# fips_stmt = select([state_fact.columns.name])\n",
    "\n",
    "# # Append a where clause to match the fips_state to flat_census fips_code: fips_stmt\n",
    "# fips_stmt = fips_stmt.where(\n",
    "#     state_fact.columns.fips_state == flat_census.columns.fips_code)\n",
    "\n",
    "# # Build an update statement to set the name to fips_stmt_where: update_stmt\n",
    "# update_stmt = update(flat_census).values(state_name=fips_stmt)\n",
    "\n",
    "# # Execute update_stmt: results\n",
    "# results = connection.execute(update_stmt)\n",
    "\n",
    "# # Print rowcount\n",
    "# print(results.rowcount)\n"
   ]
  },
  {
   "cell_type": "markdown",
   "metadata": {},
   "source": [
    "- Import delete and select from sqlalchemy.\n",
    "- Build a delete statement to remove all the data from the census table. Save it as delete_stmt.\n",
    "- Execute delete_stmt via the connection and save the results.\n",
    "- Hit 'Submit Answer' to select all remaining rows from the census table and print the result to confirm that the table is now empty!"
   ]
  },
  {
   "cell_type": "code",
   "execution_count": 21,
   "metadata": {},
   "outputs": [
    {
     "name": "stdout",
     "output_type": "stream",
     "text": [
      "0\n",
      "[]\n"
     ]
    }
   ],
   "source": [
    "# Import create_engine, MetaData, and Table\n",
    "from sqlalchemy import create_engine, MetaData, Table,select\n",
    "\n",
    "# Create engine: engine\n",
    "engine = create_engine('sqlite:///census.sqlite')\n",
    "\n",
    "# Create a metadata object: metadata\n",
    "metadata = MetaData()\n",
    "\n",
    "# Reflect census table from the engine: census\n",
    "census = Table('census', metadata, autoload=True, autoload_with=engine)\n",
    "\n",
    "# Create a connection on engine\n",
    "connection = engine.connect()\n",
    "\n",
    "# Import delete, select\n",
    "from sqlalchemy import delete , select\n",
    "\n",
    "# Build a statement to empty the census table: stmt\n",
    "delete_stmt = delete(census)\n",
    "\n",
    "# Execute the statement: results\n",
    "results = connection.execute(delete_stmt)\n",
    "\n",
    "# Print affected rowcount\n",
    "print(results.rowcount)\n",
    "\n",
    "# Build a statement to select all records from the census table : select_stmt\n",
    "select_stmt = select([census])\n",
    "\n",
    "# Print the results of executing the statement to verify there are no rows\n",
    "print(connection.execute(select_stmt).fetchall())\n"
   ]
  },
  {
   "cell_type": "markdown",
   "metadata": {},
   "source": [
    "- Build a delete statement to remove data from the census table. Save it as delete_stmt.\n",
    "- Append a where clause to delete_stmt that contains an and_ to filter for rows which have 'M' in the sex column AND 36 in the age column.\n",
    "- Execute the delete statement.\n",
    "- Hit 'Submit Answer' to print the rowcount of the results, as well as to_delete, which returns the number of rows that should be deleted. These should match and this is an important sanity check!"
   ]
  },
  {
   "cell_type": "code",
   "execution_count": 24,
   "metadata": {},
   "outputs": [
    {
     "name": "stdout",
     "output_type": "stream",
     "text": [
      "0 0\n"
     ]
    }
   ],
   "source": [
    "from sqlalchemy import func, and_\n",
    "# Build a statement to count records using the sex column for Men ('M') age 36: count_stmt\n",
    "count_stmt = select([func.count(census.columns.sex)]).where(\n",
    "    and_(census.columns.sex == 'M',\n",
    "         census.columns.age == 36)\n",
    ")\n",
    "\n",
    "# Execute the select statement and use the scalar() fetch method to save the record count\n",
    "to_delete = connection.execute(count_stmt).scalar()\n",
    "\n",
    "# Build a statement to delete records from the census table: delete_stmt\n",
    "delete_stmt = delete(census)\n",
    "\n",
    "# Append a where clause to target Men ('M') age 36: delete_stmt\n",
    "delete_stmt = delete_stmt.where(\n",
    "    and_(census.columns.sex == 'M',\n",
    "         census.columns.age == 36)\n",
    ")\n",
    "\n",
    "# Execute the statement: results\n",
    "results = connection.execute(delete_stmt)\n",
    "\n",
    "# Print affected rowcount and to_delete record count, make sure they match\n",
    "print(results.rowcount, to_delete)\n"
   ]
  },
  {
   "cell_type": "markdown",
   "metadata": {},
   "source": [
    "- Drop the state_fact table by applying the method .drop() to it and passing it the argument engine (in fact, engine will be the sole argument for every function/method in this exercise!)\n",
    "- Check to see if state_fact exists via print. Use the .exists() method with engine as the argument.\n",
    "- Drop all the tables via the metadata using the .drop_all() method.\n",
    "- Use a print statement to check if the census table exists."
   ]
  },
  {
   "cell_type": "code",
   "execution_count": 26,
   "metadata": {},
   "outputs": [],
   "source": [
    "# # Drop the state_fact table\n",
    "# state_fact.drop(engine)\n",
    "\n",
    "# # Check to see if state_fact exists\n",
    "# print(state_fact.exists(engine))\n",
    "\n",
    "# # Drop all tables\n",
    "# metadata.drop_all(engine)\n",
    "\n",
    "# # Check to see if census exists\n",
    "# print(census.exists(engine))\n"
   ]
  }
 ],
 "metadata": {
  "interpreter": {
   "hash": "3fef59229a6e1ff5434759995be53a28a25493efd6d26eb6c004eefe62e31083"
  },
  "kernelspec": {
   "display_name": "Python 3.8.11 ('env_py')",
   "language": "python",
   "name": "python3"
  },
  "language_info": {
   "codemirror_mode": {
    "name": "ipython",
    "version": 3
   },
   "file_extension": ".py",
   "mimetype": "text/x-python",
   "name": "python",
   "nbconvert_exporter": "python",
   "pygments_lexer": "ipython3",
   "version": "3.8.11"
  },
  "orig_nbformat": 4
 },
 "nbformat": 4,
 "nbformat_minor": 2
}
