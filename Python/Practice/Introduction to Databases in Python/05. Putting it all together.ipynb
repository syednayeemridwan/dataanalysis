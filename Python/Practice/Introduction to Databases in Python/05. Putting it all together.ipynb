{
 "cells": [
  {
   "cell_type": "markdown",
   "metadata": {},
   "source": [
    "- Import create_engine and MetaData from sqlalchemy.\n",
    "- Create an engine to the chapter 5 database by using 'sqlite:///chapter5.sqlite' as the connection string.\n",
    "- Create a MetaData object as metadata."
   ]
  },
  {
   "cell_type": "code",
   "execution_count": 1,
   "metadata": {},
   "outputs": [],
   "source": [
    "# Import create_engine, MetaData\n",
    "from sqlalchemy import create_engine, MetaData\n",
    "\n",
    "# Define an engine to connect to chapter5.sqlite: engine\n",
    "engine = create_engine('sqlite:///chapter5.sqlite')\n",
    "\n",
    "# Initialize MetaData: metadata\n",
    "metadata = MetaData()\n"
   ]
  },
  {
   "cell_type": "markdown",
   "metadata": {},
   "source": [
    "- Import Table, Column, String, and Integer from sqlalchemy.\n",
    "- Define a census table with the following columns:\n",
    "- 'state' - String - length of 30\n",
    "- 'sex' - String - length of 1\n",
    "- 'age' - Integer\n",
    "- 'pop2000' - Integer\n",
    "- 'pop2008' - Integer\n",
    "- Create the table in the database using the metadata and engine."
   ]
  },
  {
   "cell_type": "code",
   "execution_count": 2,
   "metadata": {},
   "outputs": [],
   "source": [
    "# Import Table, Column, String, and Integer\n",
    "from sqlalchemy import Table, Column, String, Integer\n",
    "\n",
    "# Build a census table: census\n",
    "census = Table('census', metadata,\n",
    "               Column('state', String(30)),\n",
    "               Column('sex', String(1)),\n",
    "               Column('age', Integer()),\n",
    "               Column('pop2000', Integer()),\n",
    "               Column('pop2008', Integer()))\n",
    "\n",
    "# Create the table in the database\n",
    "metadata.create_all(engine)\n"
   ]
  },
  {
   "cell_type": "markdown",
   "metadata": {},
   "source": [
    "- Create an empty list called values_list.\n",
    "- Iterate over the rows of csv_reader with a for loop, creating a dictionary called data for each row and append it to values_list.\n",
    "- Within the for loop, row will be a list whose entries are 'state' , 'sex', 'age', 'pop2000' and 'pop2008' (in that order)."
   ]
  },
  {
   "cell_type": "code",
   "execution_count": 6,
   "metadata": {},
   "outputs": [],
   "source": [
    "# # Create an empty list: values_list\n",
    "# values_list = []\n",
    "\n",
    "# import pandas as pd\n",
    "# csv_reader = pd.read_csv(\"census.csv\", header=None)\n",
    "\n",
    "\n",
    "# # Iterate over the rows\n",
    "# for row in csv_reader:\n",
    "#     # Create a dictionary with the values\n",
    "#     data = {'state': row[0], 'sex': row[1], 'age':row[2], 'pop2000': row[3],\n",
    "#             'pop2008': row[4]}\n",
    "#     # Append the dictionary to the values list\n",
    "#     values_list.append(data)\n"
   ]
  },
  {
   "cell_type": "markdown",
   "metadata": {},
   "source": [
    "- Import insert from sqlalchemy.\n",
    "- Build an insert statement for the census table.\n",
    "- Execute the statement stmt along with values_list. You will need to pass them both as arguments to connection.execute().\n",
    "- Print the rowcount attribute of results."
   ]
  },
  {
   "cell_type": "code",
   "execution_count": 7,
   "metadata": {},
   "outputs": [],
   "source": [
    "# # Import insert\n",
    "# from sqlalchemy import insert\n",
    "\n",
    "# # Build insert statement: stmt\n",
    "# stmt = insert(census)\n",
    "\n",
    "# # Use values_list to insert data: results\n",
    "# results = connection.execute(stmt, values_list)\n",
    "\n",
    "# # Print rowcount\n",
    "# print(results.rowcount)\n"
   ]
  },
  {
   "cell_type": "markdown",
   "metadata": {},
   "source": [
    "- Import select and func from sqlalchemy.\n",
    "- Write a statement to select the average of age (age) weighted by population in 2000 (pop2000) from census."
   ]
  },
  {
   "cell_type": "code",
   "execution_count": 8,
   "metadata": {},
   "outputs": [],
   "source": [
    "# Import select and func\n",
    "from sqlalchemy import select , func\n",
    "\n",
    "# Select the average of age weighted by pop2000\n",
    "stmt = select([func.sum(census.columns.pop2000 * census.columns.age) / func.sum(census.columns.pop2000)\n",
    "\t\t\t  ])"
   ]
  },
  {
   "cell_type": "markdown",
   "metadata": {},
   "source": [
    "- Modify the select statement to alias the new column with weighted average as 'average_age' using .label()."
   ]
  },
  {
   "cell_type": "code",
   "execution_count": 9,
   "metadata": {},
   "outputs": [],
   "source": [
    "# Import select and func\n",
    "from sqlalchemy import select, func\n",
    "\n",
    "# Relabel the new column as average_age\n",
    "stmt = select([(func.sum(census.columns.pop2000 * census.columns.age) \n",
    "  \t\t\t\t\t/ func.sum(census.columns.pop2000)).label('average_age')\n",
    "\t\t\t  ])"
   ]
  },
  {
   "cell_type": "markdown",
   "metadata": {},
   "source": [
    "- Modify the select statement to select the sex column of census in addition to the weighted average, with the sex column coming first.\n",
    "- Group by the sex column of census."
   ]
  },
  {
   "cell_type": "code",
   "execution_count": 10,
   "metadata": {},
   "outputs": [],
   "source": [
    "# Import select and func\n",
    "from sqlalchemy import select, func\n",
    "\n",
    "# Add the sex column to the select statement\n",
    "stmt = select([ census.columns.sex,\n",
    "                (func.sum(census.columns.pop2000 * census.columns.age) \n",
    "  \t\t\t\t\t/ func.sum(census.columns.pop2000)).label('average_age'),               \n",
    "\t\t\t  ])\n",
    "\n",
    "# Group by sex\n",
    "stmt = stmt.group_by(census.columns.sex)"
   ]
  },
  {
   "cell_type": "markdown",
   "metadata": {},
   "source": [
    "- Execute the statement on the connection (which has been created for you) and fetch all the results.\n",
    "- Loop over the results and print the values in the sex and average_age columns for each record in the results."
   ]
  },
  {
   "cell_type": "code",
   "execution_count": 13,
   "metadata": {},
   "outputs": [],
   "source": [
    "from sqlalchemy import create_engine\n",
    "engine = create_engine('sqlite:///census.sqlite')\n",
    "\n",
    "# Create a connection on engine\n",
    "connection = engine.connect()\n",
    "\n",
    "# Import select and func\n",
    "from sqlalchemy import select, func\n",
    "\n",
    "# Select sex and average age weighted by 2000 population\n",
    "stmt = select([(func.sum(census.columns.pop2000 * census.columns.age) \n",
    "  \t\t\t\t\t/ func.sum(census.columns.pop2000)).label('average_age'),\n",
    "               census.columns.sex\n",
    "\t\t\t  ])\n",
    "\n",
    "# Group by sex\n",
    "stmt = stmt.group_by(census.columns.sex)\n",
    "\n",
    "# Execute the query and fetch all the results\n",
    "results = connection.execute(stmt).fetchall()\n",
    "\n",
    "# Print the sex and average age column for each result\n",
    "for result in results:\n",
    "    print(result['sex'], result['average_age'])"
   ]
  },
  {
   "cell_type": "markdown",
   "metadata": {},
   "source": [
    "- Import case, cast and Float from sqlalchemy.\n",
    "- Define a statement to select state and the percentage of women in 2000.\n",
    "- Inside func.sum(), use case() to select women (using the sex column) from pop2000. Remember to specify else_=0 if the sex is not 'F'.\n",
    "- To get the percentage, divide the number of women in the year 2000 by the overall population in 2000. Cast the divisor - census.columns.pop2000 - to Float before multiplying by 100.\n",
    "- Group the query by state.\n",
    "- Execute the query and store it as results.\n",
    "- Print state and percent_female for each record. This has been done for you, so hit 'Submit Answer' to see the result."
   ]
  },
  {
   "cell_type": "code",
   "execution_count": 14,
   "metadata": {},
   "outputs": [],
   "source": [
    "# import case, cast and Float from sqlalchemy\n",
    "from sqlalchemy import case, cast , Float\n",
    "# Build a query to calculate the percentage of women in 2000: stmt\n",
    "stmt = select([census.columns.state,\n",
    "    (func.sum(\n",
    "        case([\n",
    "            (census.columns.sex == 'F', census.columns.pop2000)\n",
    "        ], else_=0)) /\n",
    "     cast(func.sum(census.columns.pop2000), Float) * 100).label('percent_female')\n",
    "])\n",
    "\n",
    "# Group By state\n",
    "stmt = stmt.group_by(census.columns.state)\n",
    "\n",
    "# Execute the query and store the results: results\n",
    "results = connection.execute(stmt).fetchall()\n",
    "\n",
    "# Print the percentage\n",
    "for result in results:\n",
    "    print(result.state, result.percent_female)\n"
   ]
  },
  {
   "cell_type": "markdown",
   "metadata": {},
   "source": [
    "- Build a statement to:\n",
    "- Select state.\n",
    "- Calculate the difference in population between 2008 (pop2008) and 2000 (pop2000).\n",
    "- Group the query by census.columns.state using the .group_by() method on stmt.\n",
    "- Order by 'pop_change' in descending order using the .order_by() method with the desc() function on 'pop_change'.\n",
    "- Limit the query to the top 10 states using the .limit() method.\n",
    "- Execute the query and store it as results.\n",
    "- Print the state and the population change for each result. This has been done for you, so hit 'Submit Answer' to see the result!"
   ]
  },
  {
   "cell_type": "code",
   "execution_count": 16,
   "metadata": {},
   "outputs": [],
   "source": [
    "from sqlalchemy import desc\n",
    "\n",
    "# Build query to return state name and population difference from 2008 to 2000\n",
    "stmt = select([census.columns.state,\n",
    "     (census.columns.pop2008-census.columns.pop2000).label('pop_change')\n",
    "])\n",
    "\n",
    "# Group by State\n",
    "stmt = stmt.group_by(census.columns.state)\n",
    "\n",
    "# Order by Population Change\n",
    "stmt = stmt.order_by(desc('pop_change'))\n",
    "\n",
    "# Limit to top 10\n",
    "stmt = stmt.limit(10)\n",
    "\n",
    "# Use connection to execute the statement and fetch all results\n",
    "results = connection.execute(stmt).fetchall()\n",
    "\n",
    "# Print the state and population change for each record\n",
    "for result in results:\n",
    "    print('{}:{}'.format(result.state, result.pop_change))"
   ]
  }
 ],
 "metadata": {
  "interpreter": {
   "hash": "3fef59229a6e1ff5434759995be53a28a25493efd6d26eb6c004eefe62e31083"
  },
  "kernelspec": {
   "display_name": "Python 3.8.11 ('env_py')",
   "language": "python",
   "name": "python3"
  },
  "language_info": {
   "codemirror_mode": {
    "name": "ipython",
    "version": 3
   },
   "file_extension": ".py",
   "mimetype": "text/x-python",
   "name": "python",
   "nbconvert_exporter": "python",
   "pygments_lexer": "ipython3",
   "version": "3.8.11"
  },
  "orig_nbformat": 4
 },
 "nbformat": 4,
 "nbformat_minor": 2
}
