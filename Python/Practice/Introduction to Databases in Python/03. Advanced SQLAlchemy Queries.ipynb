{
 "cells": [
  {
   "cell_type": "markdown",
   "metadata": {},
   "source": [
    "- Import the create_engine function from the sqlalchemy library.\n",
    "- Create an engine to the census database by concatenating the following strings and passing them to create_engine():\n",
    "- 'mysql+pymysql://' (the dialect and driver).\n",
    "- 'student:datacamp' (the username and password).\n",
    "- '@courses.csrrinzqubik.us-east-1.rds.amazonaws.com:3306/' (the host and port).\n",
    "- 'census' (the database name).\n",
    "- Use the .table_names() method on engine to print the table names."
   ]
  },
  {
   "cell_type": "code",
   "execution_count": 2,
   "metadata": {},
   "outputs": [],
   "source": [
    "# # Import create_engine function\n",
    "# from sqlalchemy import create_engine\n",
    "\n",
    "# # Create an engine to the census database\n",
    "# engine = create_engine('mysql+pymysql://' + 'student:datacamp'+ '@courses.csrrinzqubik.us-east-1.rds.amazonaws.com:3306/' +'census' )\n",
    "\n",
    "# # Print the table names\n",
    "# print(engine.table_names())\n"
   ]
  },
  {
   "cell_type": "markdown",
   "metadata": {},
   "source": [
    "- Define a select statement called stmt to return:\n",
    "- i) The state column of the census table (census.columns.state).\n",
    "- ii) The difference in population count between 2008 (census.columns.pop2008) and 2000 (census.columns.pop2000) labeled as 'pop_change'.\n",
    "- Group the statement by census.columns.state.\n",
    "- Order the statement by population change ('pop_change') in descending order. Do so by passing it desc('pop_change').\n",
    "- Use the .limit() method on the previous statement to return only 5 records.\n",
    "- Execute the statement and fetchall() the records.\n",
    "- The print statement has already been written for you. Hit 'Submit Answer' to view the results!"
   ]
  },
  {
   "cell_type": "code",
   "execution_count": 6,
   "metadata": {},
   "outputs": [
    {
     "name": "stdout",
     "output_type": "stream",
     "text": [
      "Texas:40137\n",
      "California:35406\n",
      "Florida:21954\n",
      "Arizona:14377\n",
      "Georgia:13357\n"
     ]
    }
   ],
   "source": [
    "from sqlalchemy import func,desc\n",
    "# Import create_engine, MetaData, and Table\n",
    "from sqlalchemy import create_engine, MetaData, Table,select\n",
    "\n",
    "# Create engine: engine\n",
    "engine = create_engine('sqlite:///census.sqlite')\n",
    "\n",
    "# Create a metadata object: metadata\n",
    "metadata = MetaData()\n",
    "\n",
    "# Reflect census table from the engine: census\n",
    "census = Table('census', metadata, autoload=True, autoload_with=engine)\n",
    "\n",
    "# Create a connection on engine\n",
    "connection = engine.connect()\n",
    "\n",
    "# Create a select query: stmt\n",
    "stmt = select([census])\n",
    "\n",
    "# Build query to return state names by population difference from 2008 to 2000: stmt\n",
    "stmt = select([census.columns.state, (census.columns.pop2008-census.columns.pop2000).label('pop_change')])\n",
    "\n",
    "# Append group by for the state: stmt_grouped\n",
    "stmt_grouped = stmt.group_by(census.columns.state)\n",
    "\n",
    "# Append order by for pop_change descendingly: stmt_ordered\n",
    "stmt_ordered = stmt_grouped.order_by(desc('pop_change'))\n",
    "\n",
    "# Return only 5 results: stmt_top5\n",
    "stmt_top5 = stmt_ordered.limit(5)\n",
    "\n",
    "# Use connection to execute stmt_top5 and fetch all results\n",
    "results = connection.execute(stmt_top5).fetchall()\n",
    "\n",
    "# Print the state and population change for each record\n",
    "for result in results:\n",
    "    print('{}:{}'.format(result.state, result.pop_change))\n"
   ]
  },
  {
   "cell_type": "markdown",
   "metadata": {},
   "source": [
    "- Import case, cast, and Float from sqlalchemy.\n",
    "- Build an expression female_pop2000to calculate female population in 2000. To achieve this:\n",
    "- Use case() inside func.sum().\n",
    "- The first argument of case() is a list containing a tuple of\n",
    "- i) A boolean checking that census.columns.sex is equal to 'F'.\n",
    "- ii) The column census.columns.pop2000.\n",
    "- The second argument is the else_ condition, which should be set to 0.\n",
    "- Calculate the total population in 2000 and use cast() to convert it to Float.\n",
    "- Build a query to calculate the percentage of women in 2000. To do this, divide female_pop2000 by total_pop2000 and multiply by 100.\n",
    "- Execute the query and print percent_female."
   ]
  },
  {
   "cell_type": "code",
   "execution_count": 7,
   "metadata": {},
   "outputs": [
    {
     "name": "stdout",
     "output_type": "stream",
     "text": [
      "51.09467432293413\n"
     ]
    }
   ],
   "source": [
    "# import case, cast and Float from sqlalchemy\n",
    "from sqlalchemy import case, cast, Float\n",
    "\n",
    "# Build an expression to calculate female population in 2000\n",
    "female_pop2000 = func.sum(\n",
    "    case([\n",
    "        (census.columns.sex == 'F', census.columns.pop2000)\n",
    "    ], else_=0))\n",
    "\n",
    "# Cast an expression to calculate total population in 2000 to Float\n",
    "total_pop2000 = cast(func.sum(census.columns.pop2000), Float)\n",
    "\n",
    "# Build a query to calculate the percentage of women in 2000: stmt\n",
    "stmt = select([female_pop2000 / total_pop2000 * 100])\n",
    "\n",
    "# Execute the query and store the scalar result: percent_female\n",
    "percent_female = connection.execute(stmt).scalar()\n",
    "\n",
    "# Print the percentage\n",
    "print(percent_female)\n"
   ]
  },
  {
   "cell_type": "markdown",
   "metadata": {},
   "source": [
    "- Build a statement to join the census and state_fact tables and select the pop2000 column from the first and the abbreviation column from the second.\n",
    "- Execute the statement to get the first result and save it as result.\n",
    "- Hit 'Submit Answer' to loop over the keys of the result object, and print the key and value for each!"
   ]
  },
  {
   "cell_type": "code",
   "execution_count": 9,
   "metadata": {},
   "outputs": [],
   "source": [
    "# # Build a statement to join census and state_fact tables: stmt\n",
    "# stmt = select([census.columns.pop2000, state_fact.columns.abbreviation])\n",
    "\n",
    "# # Execute the statement and get the first result: result\n",
    "# result = connection.execute(stmt).first()\n",
    "\n",
    "# # Loop over the keys in the result object and print the key and value\n",
    "# for key in result.keys():\n",
    "#     print(key, getattr(result, key))\n"
   ]
  },
  {
   "cell_type": "markdown",
   "metadata": {},
   "source": [
    "- Build a statement to select ALL the columns from the census and state_fact tables. To select ALL the columns from two tables employees and sales, for example, you would use stmt = select([employees, sales]).\n",
    "- Append a select_from to stmt to join the census table to the state_fact table by the state column in census and the name column in the state_fact table.\n",
    "- Execute the statement to get the first result and save it as result. This code is already written.\n",
    "- Hit 'Submit Answer' to loop over the keys of the result object, and print the key and value for each!"
   ]
  },
  {
   "cell_type": "code",
   "execution_count": 10,
   "metadata": {},
   "outputs": [],
   "source": [
    "# # Build a statement to select the census and state_fact tables: stmt\n",
    "# stmt = select([census, state_fact])\n",
    "\n",
    "# # Add a select_from clause that wraps a join for the census and state_fact\n",
    "# # tables where the census state column and state_fact name column match\n",
    "# stmt_join = stmt.select_from(\n",
    "#     census.join(state_fact, census.columns.state == state_fact.columns.name))\n",
    "\n",
    "# # Execute the statement and get the first result: result\n",
    "# result = connection.execute(stmt_join).first()\n",
    "\n",
    "# # Loop over the keys in the result object and print the key and value\n",
    "# for key in result.keys():\n",
    "#     print(key, getattr(result, key))\n"
   ]
  },
  {
   "cell_type": "markdown",
   "metadata": {},
   "source": [
    "- Build a statement to select:\n",
    "- The state column from the census table.\n",
    "- The sum of the pop2008 column from the census table.\n",
    "- The census_division_name column from the state_fact table.\n",
    "- Append a .select_from() to stmt in order to join the census and state_fact tables by the state and name columns.\n",
    "- Group the statement by the name column of the state_fact table.\n",
    "- Execute the statement stmt_grouped to get all the records and save it as results.\n",
    "- Hit 'Submit Answer' to loop over the results object and print each record."
   ]
  },
  {
   "cell_type": "code",
   "execution_count": 11,
   "metadata": {},
   "outputs": [],
   "source": [
    "# # Build a statement to select the state, sum of 2008 population and census\n",
    "# # division name: stmt\n",
    "# stmt = select([\n",
    "#     census.columns.state,\n",
    "#     func.sum(census.columns.pop2008),\n",
    "#     state_fact.columns.census_division_name\n",
    "# ])\n",
    "\n",
    "# # Append select_from to join the census and state_fact tables by the census state and state_fact name columns\n",
    "# stmt_joined = stmt.select_from(\n",
    "#     census.join(state_fact, census.columns.state == state_fact.columns.name)\n",
    "# )\n",
    "\n",
    "# # Append a group by for the state_fact name column\n",
    "# stmt_grouped = stmt_joined.group_by(state_fact.columns.name)\n",
    "\n",
    "# # Execute the statement and get the results: results\n",
    "# results = connection.execute(stmt_grouped).fetchall()\n",
    "\n",
    "# # Loop over the results object and print each record.\n",
    "# for record in results:\n",
    "#     print(record)\n"
   ]
  },
  {
   "cell_type": "markdown",
   "metadata": {},
   "source": [
    "- Save an alias of the employees table as managers. To do so, apply the method .alias() to employees.\n",
    "- Build a query to select the employee's name and their manager's name. The manager's name has already been selected for you. Use label to label the name column of employees as 'employee'.\n",
    "- Append a where clause to stmt to match where the id column of the managers table corresponds to the mgr column of the employees table.\n",
    "- Order the statement by the name column of the managers table.\n",
    "- Execute the statement and store all the results. This code is already written. Hit 'Submit Answer' to print the names of the managers and all their employees."
   ]
  },
  {
   "cell_type": "code",
   "execution_count": 15,
   "metadata": {},
   "outputs": [],
   "source": [
    "# Import create_engine, MetaData, and Table\n",
    "from sqlalchemy import create_engine, MetaData, Table,select\n",
    "\n",
    "# Create engine: engine\n",
    "engine = create_engine('sqlite:///employees.sqlite')\n",
    "\n",
    "# Create a metadata object: metadata\n",
    "metadata = MetaData()\n",
    "\n",
    "# Reflect census table from the engine: census\n",
    "employees = Table('employees', metadata, autoload=True, autoload_with=engine)\n",
    "\n",
    "# Create a connection on engine\n",
    "connection = engine.connect()\n",
    "\n",
    "# Create a select query: stmt\n",
    "employees = select([employees])"
   ]
  },
  {
   "cell_type": "code",
   "execution_count": 16,
   "metadata": {},
   "outputs": [
    {
     "name": "stdout",
     "output_type": "stream",
     "text": [
      "('FILLMORE', 'GRANT')\n",
      "('FILLMORE', 'ADAMS')\n",
      "('FILLMORE', 'MONROE')\n",
      "('GARFIELD', 'JOHNSON')\n",
      "('GARFIELD', 'LINCOLN')\n",
      "('GARFIELD', 'POLK')\n",
      "('GARFIELD', 'WASHINGTON')\n",
      "('HARDING', 'TAFT')\n",
      "('HARDING', 'HOOVER')\n",
      "('JACKSON', 'HARDING')\n",
      "('JACKSON', 'GARFIELD')\n",
      "('JACKSON', 'FILLMORE')\n",
      "('JACKSON', 'ROOSEVELT')\n"
     ]
    },
    {
     "name": "stderr",
     "output_type": "stream",
     "text": [
      "C:\\Users\\88016\\AppData\\Local\\Temp/ipykernel_30764/4100943118.py:7: SADeprecationWarning: The SelectBase.c and SelectBase.columns attributes are deprecated and will be removed in a future release; these attributes implicitly create a subquery that should be explicit.  Please call SelectBase.subquery() first in order to create a subquery, which then contains this attribute.  To access the columns that this SELECT object SELECTs from, use the SelectBase.selected_columns attribute. (deprecated since: 1.4)\n",
      "  employees.columns.name.label('employee')]\n",
      "C:\\Users\\88016\\AppData\\Local\\Temp/ipykernel_30764/4100943118.py:11: SADeprecationWarning: The SelectBase.c and SelectBase.columns attributes are deprecated and will be removed in a future release; these attributes implicitly create a subquery that should be explicit.  Please call SelectBase.subquery() first in order to create a subquery, which then contains this attribute.  To access the columns that this SELECT object SELECTs from, use the SelectBase.selected_columns attribute. (deprecated since: 1.4)\n",
      "  stmt_matched = stmt.where(managers.columns.id == employees.columns.mgr)\n"
     ]
    }
   ],
   "source": [
    "# Make an alias of the employees table: managers\n",
    "managers = employees.alias()\n",
    "\n",
    "# Build a query to select names of managers and their employees: stmt\n",
    "stmt = select(\n",
    "    [managers.columns.name.label('manager'),\n",
    "     employees.columns.name.label('employee')]\n",
    ")\n",
    "\n",
    "# Match managers id with employees mgr: stmt_matched\n",
    "stmt_matched = stmt.where(managers.columns.id == employees.columns.mgr)\n",
    "\n",
    "# Order the statement by the managers name: stmt_ordered\n",
    "stmt_ordered = stmt_matched.order_by(managers.columns.name)\n",
    "\n",
    "# Execute statement: results\n",
    "results = connection.execute(stmt_ordered).fetchall()\n",
    "\n",
    "# Print records\n",
    "for record in results:\n",
    "    print(record)\n",
    "\n"
   ]
  },
  {
   "cell_type": "markdown",
   "metadata": {},
   "source": [
    "- Save an alias of the employees table as managers.\n",
    "- Build a query to select the name column of the managers table and the count of the number of their employees. The function func.count() has been imported and will be useful! Use it to count the id column of the employees table.\n",
    "- Using a .where() clause, filter the records where the id column of the managers table and mgr column of the employees table are equal.\n",
    "- Group the query by the name column of the managers table.\n",
    "- Execute the statement and store all the results. Print the names of the managers and their employees. This code has already been written so hit 'Submit Answer' and check out the results!"
   ]
  },
  {
   "cell_type": "code",
   "execution_count": 17,
   "metadata": {},
   "outputs": [
    {
     "name": "stdout",
     "output_type": "stream",
     "text": [
      "('FILLMORE', 3)\n",
      "('GARFIELD', 4)\n",
      "('HARDING', 2)\n",
      "('JACKSON', 4)\n"
     ]
    },
    {
     "name": "stderr",
     "output_type": "stream",
     "text": [
      "C:\\Users\\88016\\AppData\\Local\\Temp/ipykernel_30764/2530089928.py:5: SADeprecationWarning: The SelectBase.c and SelectBase.columns attributes are deprecated and will be removed in a future release; these attributes implicitly create a subquery that should be explicit.  Please call SelectBase.subquery() first in order to create a subquery, which then contains this attribute.  To access the columns that this SELECT object SELECTs from, use the SelectBase.selected_columns attribute. (deprecated since: 1.4)\n",
      "  stmt = select([managers.columns.name, func.count(employees.columns.id)])\n",
      "C:\\Users\\88016\\AppData\\Local\\Temp/ipykernel_30764/2530089928.py:8: SADeprecationWarning: The SelectBase.c and SelectBase.columns attributes are deprecated and will be removed in a future release; these attributes implicitly create a subquery that should be explicit.  Please call SelectBase.subquery() first in order to create a subquery, which then contains this attribute.  To access the columns that this SELECT object SELECTs from, use the SelectBase.selected_columns attribute. (deprecated since: 1.4)\n",
      "  stmt_matched = stmt.where(employees.columns.mgr == managers.columns.id)\n"
     ]
    }
   ],
   "source": [
    "# Make an alias of the employees table: managers\n",
    "managers = employees.alias()\n",
    "\n",
    "# Build a query to select names of managers and counts of their employees: stmt\n",
    "stmt = select([managers.columns.name, func.count(employees.columns.id)])\n",
    "\n",
    "# Append a where clause that ensures the manager id and employee mgr are equal\n",
    "stmt_matched = stmt.where(employees.columns.mgr == managers.columns.id)\n",
    "\n",
    "# Group by Managers Name\n",
    "stmt_grouped = stmt_matched.group_by(managers.columns.name)\n",
    "\n",
    "# Execute statement: results\n",
    "results = connection.execute(stmt_grouped).fetchall()\n",
    "\n",
    "# print manager\n",
    "for record in results:\n",
    "    print(record)\n",
    "\n"
   ]
  },
  {
   "cell_type": "markdown",
   "metadata": {},
   "source": [
    "- Use a while loop that checks if there are more_results.\n",
    "- Inside the loop, apply the method .fetchmany() to results_proxy to get 50 records at a time and store those records as partial_results.\n",
    "- After fetching the records, if partial_results is an empty list (that is, if it is equal to []), set more_results to False.\n",
    "- Loop over the partial_results and, if row.state is a key in the state_count dictionary, increment state_count[row.state] by 1; otherwise set state_count[row.state] to 1.\n",
    "- After the while loop, close the ResultProxy results_proxy using .close().\n",
    "- Hit 'Submit Answer' to print state_count."
   ]
  },
  {
   "cell_type": "code",
   "execution_count": 1,
   "metadata": {},
   "outputs": [],
   "source": [
    "# # Start a while loop checking for more results\n",
    "# while more_results:\n",
    "#     # Fetch the first 50 results from the ResultProxy: partial_results\n",
    "#     partial_results = results_proxy.fetchmany(50)\n",
    "\n",
    "#     # if empty list, set more_results to False\n",
    "#     if partial_results == []:\n",
    "#         more_results = False\n",
    "\n",
    "#     # Loop over the fetched records and increment the count for the state\n",
    "#     for row in partial_results:\n",
    "#         if row.state in state_count:\n",
    "#             state_count[row.state] = state_count[row.state] + 1\n",
    "#         else:\n",
    "#             state_count[row.state] = 1\n",
    "\n",
    "# # Close the ResultProxy, and thus the connection\n",
    "# results_proxy.close()\n",
    "\n",
    "# # Print the count by state\n",
    "# print(state_count)"
   ]
  }
 ],
 "metadata": {
  "interpreter": {
   "hash": "3fef59229a6e1ff5434759995be53a28a25493efd6d26eb6c004eefe62e31083"
  },
  "kernelspec": {
   "display_name": "Python 3.8.11 ('env_py')",
   "language": "python",
   "name": "python3"
  },
  "language_info": {
   "codemirror_mode": {
    "name": "ipython",
    "version": 3
   },
   "file_extension": ".py",
   "mimetype": "text/x-python",
   "name": "python",
   "nbconvert_exporter": "python",
   "pygments_lexer": "ipython3",
   "version": "3.8.11"
  },
  "orig_nbformat": 4
 },
 "nbformat": 4,
 "nbformat_minor": 2
}
