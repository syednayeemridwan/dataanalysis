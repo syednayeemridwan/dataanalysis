{
 "cells": [
  {
   "cell_type": "markdown",
   "metadata": {},
   "source": [
    "- From matplotlib, import the module pyplot under the alias plt\n",
    "- Plot Officer Deshaun's hours worked using the columns day_of_week and hours_worked from deshaun.\n",
    "- Display the plot."
   ]
  },
  {
   "cell_type": "code",
   "execution_count": 2,
   "metadata": {},
   "outputs": [],
   "source": [
    "# # From matplotlib, import pyplot under the alias plt\n",
    "# from matplotlib import pyplot as plt\n",
    "\n",
    "# # Plot Officer Deshaun's hours_worked vs. day_of_week\n",
    "# plt.plot(deshaun.day_of_week, deshaun.hours_worked)\n",
    "\n",
    "# # Display Deshaun's plot\n",
    "# plt.show()"
   ]
  },
  {
   "cell_type": "markdown",
   "metadata": {},
   "source": [
    "- Plot Officer Aditya's time worked with day_of_week on the x-axis and hours_worked on the y-axis.\n",
    "- Plot Officer Mengfei's time worked with day_of_week on the x-axis and hours_worked on the y-axis.\n"
   ]
  },
  {
   "cell_type": "code",
   "execution_count": 3,
   "metadata": {},
   "outputs": [],
   "source": [
    "# # Plot Officer Deshaun's hours_worked vs. day_of_week\n",
    "# plt.plot(deshaun.day_of_week, deshaun.hours_worked)\n",
    "\n",
    "# # Plot Officer Aditya's hours_worked vs. day_of_week\n",
    "# plt.plot(aditya.day_of_week, aditya.hours_worked)\n",
    "\n",
    "# # Plot Officer Mengfei's hours_worked vs. day_of_week\n",
    "# plt.plot(mengfei.day_of_week, mengfei.hours_worked)\n",
    "\n",
    "# # Display all three line plots\n",
    "# plt.show()"
   ]
  },
  {
   "cell_type": "markdown",
   "metadata": {},
   "source": [
    "- Using the keyword label, label Deshaun's plot as \"Deshaun\".\n",
    "- Add labels to Mengfei's (\"Mengfei\") and Aditya's (\"Aditya\") plots.\n",
    "- Nothing is displaying yet! Add a command to make the legend display."
   ]
  },
  {
   "cell_type": "code",
   "execution_count": 4,
   "metadata": {},
   "outputs": [],
   "source": [
    "# # Officer Deshaun\n",
    "# plt.plot(deshaun.day_of_week, deshaun.hours_worked, label='Deshaun')\n",
    "\n",
    "# # Add a label to Aditya's plot\n",
    "# plt.plot(aditya.day_of_week, aditya.hours_worked, label='Aditya')\n",
    "\n",
    "# # Add a label to Mengfei's plot\n",
    "# plt.plot(mengfei.day_of_week, mengfei.hours_worked, label='Mengfei')\n",
    "\n",
    "# # Add a command to make the legend display\n",
    "# plt.legend()\n",
    "\n",
    "# # Display plot\n",
    "# plt.show()"
   ]
  },
  {
   "cell_type": "markdown",
   "metadata": {},
   "source": [
    "- Add a descriptive title to the chart.\n",
    "- Add a label for the y-axis."
   ]
  },
  {
   "cell_type": "code",
   "execution_count": 5,
   "metadata": {},
   "outputs": [],
   "source": [
    "# # Lines\n",
    "# plt.plot(deshaun.day_of_week, deshaun.hours_worked, label='Deshaun')\n",
    "# plt.plot(aditya.day_of_week, aditya.hours_worked, label='Aditya')\n",
    "# plt.plot(mengfei.day_of_week, mengfei.hours_worked, label='Mengfei')\n",
    "\n",
    "# # Add a title\n",
    "# plt.title(\"Working Hours\")\n",
    "\n",
    "# # Add y-axis label\n",
    "# plt.ylabel(\"Hours Worked\")\n",
    "\n",
    "# # Legend\n",
    "# plt.legend()\n",
    "# # Display plot\n",
    "# plt.show()"
   ]
  },
  {
   "cell_type": "markdown",
   "metadata": {},
   "source": [
    "Place the annotation \"Missing June data\" at the point (2.5, 80)."
   ]
  },
  {
   "cell_type": "code",
   "execution_count": 6,
   "metadata": {},
   "outputs": [],
   "source": [
    "# # Create plot\n",
    "# plt.plot(six_months.month, six_months.hours_worked)\n",
    "\n",
    "# # Add annotation \"Missing June data\" at (2.5, 80)\n",
    "# plt.text(2.5, 80, \"Missing June data\")\n",
    "\n",
    "# # Display graph\n",
    "# plt.show()"
   ]
  },
  {
   "cell_type": "markdown",
   "metadata": {},
   "source": [
    "- Change the color of Phoenix to \"DarkCyan\".\n",
    "- Make the Los Angeles line dotted.\n",
    "- Add square markers to Philadelphia."
   ]
  },
  {
   "cell_type": "code",
   "execution_count": 7,
   "metadata": {},
   "outputs": [],
   "source": [
    "# # Change the color of Phoenix to `\"DarkCyan\"`\n",
    "# plt.plot(data[\"Year\"], data[\"Phoenix Police Dept\"], label=\"Phoenix\", color = \"DarkCyan\")\n",
    "\n",
    "# # Make the Los Angeles line dotted\n",
    "# plt.plot(data[\"Year\"], data[\"Los Angeles Police Dept\"], label=\"Los Angeles\", linestyle = \":\")\n",
    "\n",
    "# # Add square markers to Philedelphia\n",
    "# plt.plot(data[\"Year\"], data[\"Philadelphia Police Dept\"], label=\"Philadelphia\", marker = \"s\")\n",
    "\n",
    "# # Add a legend\n",
    "# plt.legend()\n",
    "\n",
    "# # Display the plot\n",
    "# plt.show()"
   ]
  },
  {
   "cell_type": "markdown",
   "metadata": {},
   "source": [
    "- Change the plotting style to \"fivethirtyeight\"."
   ]
  },
  {
   "cell_type": "code",
   "execution_count": 8,
   "metadata": {},
   "outputs": [],
   "source": [
    "# # Change the style to fivethirtyeight\n",
    "# plt.style.use(\"fivethirtyeight\")\n",
    "\n",
    "# # Plot lines\n",
    "# plt.plot(data[\"Year\"], data[\"Phoenix Police Dept\"], label=\"Phoenix\")\n",
    "# plt.plot(data[\"Year\"], data[\"Los Angeles Police Dept\"], label=\"Los Angeles\")\n",
    "# plt.plot(data[\"Year\"], data[\"Philadelphia Police Dept\"], label=\"Philadelphia\")\n",
    "\n",
    "# # Add a legend\n",
    "# plt.legend()\n",
    "\n",
    "# # Display the plot\n",
    "# plt.show()"
   ]
  },
  {
   "cell_type": "markdown",
   "metadata": {},
   "source": [
    "- Change the plotting style to \"ggplot\"."
   ]
  },
  {
   "cell_type": "code",
   "execution_count": 9,
   "metadata": {},
   "outputs": [],
   "source": [
    "# # Change the style to ggplot\n",
    "# plt.style.use(\"ggplot\")\n",
    "\n",
    "# # Plot lines\n",
    "# plt.plot(data[\"Year\"], data[\"Phoenix Police Dept\"], label=\"Phoenix\")\n",
    "# plt.plot(data[\"Year\"], data[\"Los Angeles Police Dept\"], label=\"Los Angeles\")\n",
    "# plt.plot(data[\"Year\"], data[\"Philadelphia Police Dept\"], label=\"Philadelphia\")\n",
    "\n",
    "# # Add a legend\n",
    "# plt.legend()\n",
    "\n",
    "# # Display the plot\n",
    "# plt.show()"
   ]
  },
  {
   "cell_type": "markdown",
   "metadata": {},
   "source": [
    "- View all styles by typing print(plt.style.available) in the console.\n",
    "- Pick one of those styles and see what it looks like."
   ]
  },
  {
   "cell_type": "code",
   "execution_count": 10,
   "metadata": {},
   "outputs": [
    {
     "data": {
      "text/plain": [
       "['Solarize_Light2',\n",
       " '_classic_test_patch',\n",
       " 'bmh',\n",
       " 'classic',\n",
       " 'dark_background',\n",
       " 'fast',\n",
       " 'fivethirtyeight',\n",
       " 'ggplot',\n",
       " 'grayscale',\n",
       " 'seaborn',\n",
       " 'seaborn-bright',\n",
       " 'seaborn-colorblind',\n",
       " 'seaborn-dark',\n",
       " 'seaborn-dark-palette',\n",
       " 'seaborn-darkgrid',\n",
       " 'seaborn-deep',\n",
       " 'seaborn-muted',\n",
       " 'seaborn-notebook',\n",
       " 'seaborn-paper',\n",
       " 'seaborn-pastel',\n",
       " 'seaborn-poster',\n",
       " 'seaborn-talk',\n",
       " 'seaborn-ticks',\n",
       " 'seaborn-white',\n",
       " 'seaborn-whitegrid',\n",
       " 'tableau-colorblind10']"
      ]
     },
     "execution_count": 10,
     "metadata": {},
     "output_type": "execute_result"
    }
   ],
   "source": [
    "plt.style.available"
   ]
  },
  {
   "cell_type": "code",
   "execution_count": 11,
   "metadata": {},
   "outputs": [],
   "source": [
    "# # Choose any of the styles\n",
    "# plt.style.use('tableau-colorblind10')\n",
    "\n",
    "# # Plot lines\n",
    "# plt.plot(data[\"Year\"], data[\"Phoenix Police Dept\"], label=\"Phoenix\")\n",
    "# plt.plot(data[\"Year\"], data[\"Los Angeles Police Dept\"], label=\"Los Angeles\")\n",
    "# plt.plot(data[\"Year\"], data[\"Philadelphia Police Dept\"], label=\"Philadelphia\")\n",
    "\n",
    "# # Add a legend\n",
    "# plt.legend()\n",
    "\n",
    "# # Display the plot\n",
    "# plt.show()"
   ]
  },
  {
   "cell_type": "markdown",
   "metadata": {},
   "source": [
    "- Plot the letter frequencies from the ransom note. The x-values should be ransom.letter. The y-values should be ransom.frequency. The label should be the string 'Ransom'. The line should be dotted and gray."
   ]
  },
  {
   "cell_type": "code",
   "execution_count": 12,
   "metadata": {},
   "outputs": [],
   "source": [
    "# # x should be ransom.letter and y should be ransom.frequency\n",
    "# plt.plot(ransom.letter, ransom.frequency,\n",
    "#          # Label should be \"Ransom\"\n",
    "#          label =\"Ransom\",\n",
    "#          # Plot the ransom letter as a dotted gray line\n",
    "#          linestyle=':', color='gray')\n",
    "\n",
    "# # Display the plot\n",
    "# plt.show()"
   ]
  },
  {
   "cell_type": "markdown",
   "metadata": {},
   "source": [
    "- Plot a line for the data in suspect1. Use a keyword argument to label that line 'Fred Frequentist')."
   ]
  },
  {
   "cell_type": "code",
   "execution_count": 13,
   "metadata": {},
   "outputs": [],
   "source": [
    "# # Plot each line\n",
    "# plt.plot(ransom.letter, ransom.frequency,\n",
    "#          label='Ransom', linestyle=':', color='gray')\n",
    "\n",
    "# # X-values should be suspect1.letter\n",
    "# # Y-values should be suspect1.frequency\n",
    "# # Label should be \"Fred Frequentist\"\n",
    "# plt.plot(suspect1.letter, suspect1.frequency, label=\"Fred Frequentist\")\n",
    "\n",
    "# # Display the plot\n",
    "# plt.show()"
   ]
  },
  {
   "cell_type": "markdown",
   "metadata": {},
   "source": [
    "- Plot a line for the data in suspect2 (labeled 'Gertrude Cox')."
   ]
  },
  {
   "cell_type": "code",
   "execution_count": 14,
   "metadata": {},
   "outputs": [],
   "source": [
    "# # Plot each line\n",
    "# plt.plot(ransom.letter, ransom.frequency,\n",
    "#          label='Ransom', linestyle=':', color='gray')\n",
    "# plt.plot(suspect1.letter, suspect1.frequency,\n",
    "#          label='Fred Frequentist')\n",
    "\n",
    "# # X-values should be suspect2.letter\n",
    "# # Y-values should be suspect2.frequency\n",
    "# # Label should be \"Gertrude Cox\"\n",
    "# plt.plot(suspect2.letter, suspect2.frequency,\n",
    "#          label=\"Gertrude Cox\")\n",
    "\n",
    "# # Display plot\n",
    "# plt.show()"
   ]
  },
  {
   "cell_type": "markdown",
   "metadata": {},
   "source": [
    "- Label the x-axis (Letter) and the y-axis (Frequency), and add a legend."
   ]
  },
  {
   "cell_type": "code",
   "execution_count": 15,
   "metadata": {},
   "outputs": [],
   "source": [
    "# # Plot each line\n",
    "# plt.plot(ransom.letter, ransom.frequency,\n",
    "#          label='Ransom', linestyle=':', color='gray')\n",
    "# plt.plot(suspect1.letter, suspect1.frequency, label='Fred Frequentist')\n",
    "# plt.plot(suspect2.letter, suspect2.frequency, label='Gertrude Cox')\n",
    "\n",
    "# # Add x- and y-labels\n",
    "# plt.xlabel(\"Letter\")\n",
    "# plt.ylabel(\"Frequency\")\n",
    "\n",
    "# # Add a legend\n",
    "# plt.legend()\n",
    "\n",
    "# # Display plot\n",
    "# plt.show()"
   ]
  }
 ],
 "metadata": {
  "interpreter": {
   "hash": "3fef59229a6e1ff5434759995be53a28a25493efd6d26eb6c004eefe62e31083"
  },
  "kernelspec": {
   "display_name": "Python 3.8.11 ('env_py')",
   "language": "python",
   "name": "python3"
  },
  "language_info": {
   "codemirror_mode": {
    "name": "ipython",
    "version": 3
   },
   "file_extension": ".py",
   "mimetype": "text/x-python",
   "name": "python",
   "nbconvert_exporter": "python",
   "pygments_lexer": "ipython3",
   "version": "3.8.11"
  },
  "orig_nbformat": 4
 },
 "nbformat": 4,
 "nbformat_minor": 2
}
