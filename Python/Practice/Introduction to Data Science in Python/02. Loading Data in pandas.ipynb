{
 "cells": [
  {
   "cell_type": "markdown",
   "metadata": {},
   "source": [
    "- Import the pandas module under the alias pd.\n",
    "- Load the CSV \"credit_records.csv\" into a DataFrame called credit_records.\n",
    "- Display the first five rows of credit_records using the .head() method."
   ]
  },
  {
   "cell_type": "code",
   "execution_count": 1,
   "metadata": {},
   "outputs": [],
   "source": [
    "# # Import pandas under the alias pd\n",
    "# import pandas as pd\n",
    "\n",
    "# # Load the CSV \"credit_records.csv\"\n",
    "# credit_records = pd.read_csv(\"credit_records.csv\")\n",
    "\n",
    "# # Display the first five rows of credit_records using the .head() method\n",
    "# print(credit_records.head())"
   ]
  },
  {
   "cell_type": "markdown",
   "metadata": {},
   "source": [
    "- Use the .info() method to inspect the DataFrame credit_records."
   ]
  },
  {
   "cell_type": "code",
   "execution_count": 2,
   "metadata": {},
   "outputs": [],
   "source": [
    "# # Use .info() to inspect the DataFrame credit_records\n",
    "# print(credit_records.info())"
   ]
  },
  {
   "cell_type": "markdown",
   "metadata": {},
   "source": [
    "- Select the column item from credit_records using brackets and string notation."
   ]
  },
  {
   "cell_type": "code",
   "execution_count": 3,
   "metadata": {},
   "outputs": [],
   "source": [
    "# # Select the column item from credit_records\n",
    "# # Use brackets and string notation\n",
    "# items = credit_records['item']\n",
    "\n",
    "# # Display the results\n",
    "# print(items)\n",
    "\n"
   ]
  },
  {
   "cell_type": "markdown",
   "metadata": {},
   "source": [
    "- Select the column item from credit_records using dot notation."
   ]
  },
  {
   "cell_type": "code",
   "execution_count": 4,
   "metadata": {},
   "outputs": [],
   "source": [
    "# # Select the column item from credit_records\n",
    "# # Use dot notation\n",
    "# items = credit_records.item\n",
    "\n",
    "# # Display the results\n",
    "# print(items)"
   ]
  },
  {
   "cell_type": "markdown",
   "metadata": {},
   "source": [
    "- Correct the code so that it runs without errors."
   ]
  },
  {
   "cell_type": "code",
   "execution_count": 5,
   "metadata": {},
   "outputs": [],
   "source": [
    "# # One or more lines of code contain errors.\n",
    "# # Fix the errors so that the code runs.\n",
    "\n",
    "# # Select the location column in credit_records\n",
    "# location = credit_records['location']\n",
    "\n",
    "# # Select the item column in credit_records\n",
    "# items = credit_records.item\n",
    "\n",
    "# # Display results\n",
    "# print(location)"
   ]
  },
  {
   "cell_type": "markdown",
   "metadata": {},
   "source": [
    "- Inspect the DataFrame mpr using info().\n",
    "- Correct the mistakes in the code so that it runs without errors."
   ]
  },
  {
   "cell_type": "code",
   "execution_count": 6,
   "metadata": {},
   "outputs": [],
   "source": [
    "# # Use info() to inspect mpr\n",
    "# print(mpr.info())\n",
    "\n",
    "# # The following code contains one or more errors\n",
    "# # Correct the mistakes in the code so that it runs without errors\n",
    "\n",
    "# # Select column \"Dog Name\" from mpr\n",
    "# name = mpr['Dog Name']\n",
    "\n",
    "# # Select column \"Missing?\" from mpr\n",
    "# is_missing = mpr['Missing?']\n",
    "\n",
    "# # Display the columns\n",
    "# print(name)\n",
    "# print(is_missing)"
   ]
  },
  {
   "cell_type": "markdown",
   "metadata": {},
   "source": [
    "whenever a column name contains a space, we must use brackets and string notation."
   ]
  },
  {
   "cell_type": "markdown",
   "metadata": {},
   "source": [
    "- The variable height_inches represents the height of a suspect. Is height_inches greater than 70 inches?\n",
    "- The variable plate1 represents a license plate number of a suspect. Is it equal to FRQ123?\n",
    "- The variable fur_color represents the color of Bayes' fur. Check that fur_color is not equal to \"brown\"."
   ]
  },
  {
   "cell_type": "code",
   "execution_count": 7,
   "metadata": {},
   "outputs": [],
   "source": [
    "# # Is height_inches greater than 70 inches?\n",
    "# print(height_inches > 70)\n",
    "\n",
    "# # Is plate1 equal to \"FRQ123\"?\n",
    "# print(plate1 == \"FRQ123\")\n",
    "\n",
    "# # Is fur_color not equal to \"brown\"?\n",
    "# print(fur_color != \"brown\")"
   ]
  },
  {
   "cell_type": "markdown",
   "metadata": {},
   "source": [
    "- Select the dogs where Age is greater than 2.\n",
    "- Select the dogs whose Status is equal to Still Missing.\n",
    "- Select all dogs whose Dog Breed is not equal to Poodle."
   ]
  },
  {
   "cell_type": "code",
   "execution_count": 8,
   "metadata": {},
   "outputs": [],
   "source": [
    "# # Select the dogs where Age is greater than 2\n",
    "# greater_than_2 = mpr[mpr.Age >2 ]\n",
    "# print(greater_than_2)\n",
    "\n",
    "# # Select the dogs whose Status is equal to Still Missing\n",
    "# still_missing = mpr[mpr.Status == \"Still Missing\"]\n",
    "# print(still_missing)\n",
    "\n",
    "# # Select all dogs whose Dog Breed is not equal to Poodle\n",
    "# not_poodle = mpr[mpr[\"Dog Breed\"] != \"Poodle\"]\n",
    "# print(not_poodle)"
   ]
  },
  {
   "cell_type": "markdown",
   "metadata": {},
   "source": [
    "- Select rows of credit_records such that the column location is equal to 'Pet Paradise'."
   ]
  },
  {
   "cell_type": "code",
   "execution_count": 9,
   "metadata": {},
   "outputs": [],
   "source": [
    "# # Select purchases from 'Pet Paradise'\n",
    "# purchase = credit_records[credit_records.location == 'Pet Paradise']\n",
    "\n",
    "# # Display\n",
    "# print(purchase)"
   ]
  }
 ],
 "metadata": {
  "interpreter": {
   "hash": "3fef59229a6e1ff5434759995be53a28a25493efd6d26eb6c004eefe62e31083"
  },
  "kernelspec": {
   "display_name": "Python 3.8.11 ('env_py')",
   "language": "python",
   "name": "python3"
  },
  "language_info": {
   "codemirror_mode": {
    "name": "ipython",
    "version": 3
   },
   "file_extension": ".py",
   "mimetype": "text/x-python",
   "name": "python",
   "nbconvert_exporter": "python",
   "pygments_lexer": "ipython3",
   "version": "3.8.11"
  },
  "orig_nbformat": 4
 },
 "nbformat": 4,
 "nbformat_minor": 2
}
