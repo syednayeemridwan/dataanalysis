{
 "cells": [
  {
   "cell_type": "markdown",
   "metadata": {},
   "source": [
    "- Display the first five rows of the DataFrame and determine which columns to plot.\n",
    "- Create a scatter plot of the data in cellphone."
   ]
  },
  {
   "cell_type": "code",
   "execution_count": 1,
   "metadata": {},
   "outputs": [],
   "source": [
    "# # Explore the data\n",
    "# print(cellphone.head())\n",
    "\n",
    "# # Create a scatter plot of the data from the DataFrame cellphone\n",
    "# plt.scatter(cellphone.x, cellphone.y)\n",
    "\n",
    "# # Add labels\n",
    "# plt.ylabel('Latitude')\n",
    "# plt.xlabel('Longitude')\n",
    "\n",
    "# # Display the plot\n",
    "# plt.show()"
   ]
  },
  {
   "cell_type": "markdown",
   "metadata": {},
   "source": [
    "- Change the color of the points to 'red'.\n",
    "- Change the marker shape to square.\n",
    "- Change the transparency of the scatterplot to 0.1."
   ]
  },
  {
   "cell_type": "code",
   "execution_count": 2,
   "metadata": {},
   "outputs": [],
   "source": [
    "# # Change the transparency to 0.1\n",
    "# plt.scatter(cellphone.x, cellphone.y,\n",
    "#            color='red',\n",
    "#            marker='s',\n",
    "#            alpha =0.1)\n",
    "\n",
    "# # Add labels\n",
    "# plt.ylabel('Latitude')\n",
    "# plt.xlabel('Longitude')\n",
    "\n",
    "# # Display the plot\n",
    "# plt.show()"
   ]
  },
  {
   "cell_type": "markdown",
   "metadata": {},
   "source": [
    "- Display the DataFrame hours using a print command.\n",
    "- Create a bar chart of the column avg_hours_worked for each officer from the DataFrame hours.\n",
    "- Use the column std_hours_worked (the standard deviation of the hours worked) to add error bars to the bar chart."
   ]
  },
  {
   "cell_type": "code",
   "execution_count": 3,
   "metadata": {},
   "outputs": [],
   "source": [
    "# # Display the DataFrame hours using print\n",
    "# print(hours)\n",
    "\n",
    "# # Create a bar plot from the DataFrame hours\n",
    "# plt.bar(hours.officer, hours.avg_hours_worked,\n",
    "#         # Add error bars\n",
    "#         yerr=hours.std_hours_worked)\n",
    "\n",
    "# # Display the plot\n",
    "# plt.show()"
   ]
  },
  {
   "cell_type": "markdown",
   "metadata": {},
   "source": [
    "- Create a bar plot of the time each officer spends on desk_work.\n",
    "- Label that bar plot \"Desk Work\"."
   ]
  },
  {
   "cell_type": "code",
   "execution_count": 4,
   "metadata": {},
   "outputs": [],
   "source": [
    "# # Plot the number of hours spent on desk work\n",
    "# plt.bar(hours.officer , hours.desk_work , label = \"Desk Work\")\n",
    "\n",
    "# # Display the plot\n",
    "# plt.show()"
   ]
  },
  {
   "cell_type": "markdown",
   "metadata": {},
   "source": [
    "- Create a bar plot for field_work whose bottom is the height of desk_work.\n",
    "- Label the field_work bars as \"Field Work\" and add a legend."
   ]
  },
  {
   "cell_type": "code",
   "execution_count": 5,
   "metadata": {},
   "outputs": [],
   "source": [
    "# # Plot the number of hours spent on desk work\n",
    "# plt.bar(hours.officer, hours.desk_work, label='Desk Work')\n",
    "\n",
    "# # Plot the hours spent on field work on top of desk work\n",
    "# plt.bar(hours.officer, hours.field_work, label='Field Work', bottom = hours.desk_work)\n",
    "\n",
    "# # Add a legend\n",
    "# plt.legend()\n",
    "\n",
    "# # Display the plot\n",
    "# plt.show()"
   ]
  },
  {
   "cell_type": "markdown",
   "metadata": {},
   "source": [
    "- Create a histogram of the column weight from the DataFrame puppies."
   ]
  },
  {
   "cell_type": "code",
   "execution_count": 6,
   "metadata": {},
   "outputs": [],
   "source": [
    "# # Create a histogram of the column weight from the DataFrame puppies\n",
    "# plt.hist(puppies.weight)\n",
    "\n",
    "# # Add labels\n",
    "# plt.xlabel('Puppy Weight (lbs)')\n",
    "# plt.ylabel('Number of Puppies')\n",
    "\n",
    "# # Display\n",
    "# plt.show()"
   ]
  },
  {
   "cell_type": "markdown",
   "metadata": {},
   "source": [
    "- Change the number of bins to 50."
   ]
  },
  {
   "cell_type": "code",
   "execution_count": 7,
   "metadata": {},
   "outputs": [],
   "source": [
    "# # Change the number of bins to 50\n",
    "# plt.hist(puppies.weight,\n",
    "#         bins=50)\n",
    "\n",
    "# # Add labels\n",
    "# plt.xlabel('Puppy Weight (lbs)')\n",
    "# plt.ylabel('Number of Puppies')\n",
    "\n",
    "# # Display\n",
    "# plt.show()"
   ]
  },
  {
   "cell_type": "markdown",
   "metadata": {},
   "source": [
    "- Change the range to start at 5 and end at 35."
   ]
  },
  {
   "cell_type": "code",
   "execution_count": 8,
   "metadata": {},
   "outputs": [],
   "source": [
    "# # Change the range to start at 5 and end at 35\n",
    "# plt.hist(puppies.weight,\n",
    "#         range=(5, 35))\n",
    "\n",
    "# # Add labels\n",
    "# plt.xlabel('Puppy Weight (lbs)')\n",
    "# plt.ylabel('Number of Puppies')\n",
    "\n",
    "# # Display\n",
    "# plt.show()"
   ]
  },
  {
   "cell_type": "markdown",
   "metadata": {},
   "source": [
    "- Create a histogram of gravel.radius."
   ]
  },
  {
   "cell_type": "code",
   "execution_count": 9,
   "metadata": {},
   "outputs": [],
   "source": [
    "# # Create a histogram of gravel.radius\n",
    "# plt.hist(gravel.radius)\n",
    "\n",
    "# # Display histogram\n",
    "# plt.show()"
   ]
  },
  {
   "cell_type": "markdown",
   "metadata": {},
   "source": [
    "- Modify the histogram such that the histogram is divided into 40 bins and the range is from 2 to 8."
   ]
  },
  {
   "cell_type": "code",
   "execution_count": 10,
   "metadata": {},
   "outputs": [],
   "source": [
    "# # Create a histogram\n",
    "# # Range is 2 to 8, with 40 bins\n",
    "# plt.hist(gravel.radius, range = (2,8), bins = 40)\n",
    "\n",
    "# # Display histogram\n",
    "# plt.show()"
   ]
  },
  {
   "cell_type": "markdown",
   "metadata": {},
   "source": [
    "- Normalize your histogram so that the sum of the bins adds to 1."
   ]
  },
  {
   "cell_type": "code",
   "execution_count": 11,
   "metadata": {},
   "outputs": [],
   "source": [
    "# # Create a histogram\n",
    "# # Normalize to 1\n",
    "# plt.hist(gravel.radius,\n",
    "#          bins=40,\n",
    "#          range=(2, 8),\n",
    "#          density = True)\n",
    "\n",
    "# # Display histogram\n",
    "# plt.show()"
   ]
  },
  {
   "cell_type": "markdown",
   "metadata": {},
   "source": [
    "- Label the x-axis (Gravel Radius (mm)), the y-axis (Frequency), and add the title (Sample from Shoeprint)."
   ]
  },
  {
   "cell_type": "code",
   "execution_count": 12,
   "metadata": {},
   "outputs": [],
   "source": [
    "# # Create a histogram\n",
    "# plt.hist(gravel.radius,\n",
    "#          bins=40,\n",
    "#          range=(2, 8),\n",
    "#          density=True)\n",
    "\n",
    "# # Label plot\n",
    "# plt.xlabel('Gravel Radius (mm)')\n",
    "# plt.ylabel('Frequency')\n",
    "# plt.title('Sample from Shoeprint')\n",
    "\n",
    "# # Display histogram\n",
    "# plt.show()"
   ]
  }
 ],
 "metadata": {
  "interpreter": {
   "hash": "3fef59229a6e1ff5434759995be53a28a25493efd6d26eb6c004eefe62e31083"
  },
  "kernelspec": {
   "display_name": "Python 3.8.11 ('env_py')",
   "language": "python",
   "name": "python3"
  },
  "language_info": {
   "codemirror_mode": {
    "name": "ipython",
    "version": 3
   },
   "file_extension": ".py",
   "mimetype": "text/x-python",
   "name": "python",
   "nbconvert_exporter": "python",
   "pygments_lexer": "ipython3",
   "version": "3.8.11"
  },
  "orig_nbformat": 4
 },
 "nbformat": 4,
 "nbformat_minor": 2
}
